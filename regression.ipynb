{
 "cells": [
  {
   "cell_type": "code",
   "execution_count": 1,
   "id": "d4fc4271",
   "metadata": {
    "ExecuteTime": {
     "end_time": "2022-04-05T03:43:06.886267Z",
     "start_time": "2022-04-05T03:42:54.799974Z"
    }
   },
   "outputs": [],
   "source": [
    "import pandas as pd\n",
    "import numpy as np\n",
    "\n",
    "from sklearn.model_selection import KFold ## for regression\n",
    "from sklearn.model_selection import StratifiedKFold ## recommended for classification\n",
    "import statsmodels.formula.api as smf\n",
    "from sklearn.metrics import roc_curve\n",
    "from sklearn.metrics import auc\n",
    "\n",
    "from sklearn.linear_model import LinearRegression\n",
    "from sklearn.linear_model import LogisticRegression\n",
    "from sklearn.linear_model import Ridge, RidgeCV, Lasso, LassoCV\n",
    "from sklearn.discriminant_analysis import LinearDiscriminantAnalysis\n",
    "from sklearn.ensemble import RandomForestRegressor\n",
    "from sklearn.ensemble import RandomForestClassifier\n",
    "from sklearn.tree import DecisionTreeClassifier\n",
    "from sklearn.ensemble import RandomForestClassifier\n",
    "from sklearn.preprocessing import StandardScaler\n",
    "from sklearn.preprocessing import MinMaxScaler\n",
    "import lightgbm as lgb"
   ]
  },
  {
   "cell_type": "code",
   "execution_count": 2,
   "id": "d17b9d43",
   "metadata": {
    "ExecuteTime": {
     "end_time": "2022-04-05T04:03:48.276071Z",
     "start_time": "2022-04-05T04:03:47.632281Z"
    }
   },
   "outputs": [],
   "source": [
    "test = pd.read_csv('option_test_wolabel.csv')\n",
    "train = pd.read_csv('option_train.csv')"
   ]
  },
  {
   "cell_type": "code",
   "execution_count": 3,
   "id": "89c9f3bf",
   "metadata": {
    "ExecuteTime": {
     "end_time": "2022-04-05T04:03:49.462540Z",
     "start_time": "2022-04-05T04:03:49.252079Z"
    }
   },
   "outputs": [
    {
     "data": {
      "text/html": [
       "<div>\n",
       "<style scoped>\n",
       "    .dataframe tbody tr th:only-of-type {\n",
       "        vertical-align: middle;\n",
       "    }\n",
       "\n",
       "    .dataframe tbody tr th {\n",
       "        vertical-align: top;\n",
       "    }\n",
       "\n",
       "    .dataframe thead th {\n",
       "        text-align: right;\n",
       "    }\n",
       "</style>\n",
       "<table border=\"1\" class=\"dataframe\">\n",
       "  <thead>\n",
       "    <tr style=\"text-align: right;\">\n",
       "      <th></th>\n",
       "      <th>Value</th>\n",
       "      <th>S</th>\n",
       "      <th>K</th>\n",
       "      <th>tau</th>\n",
       "      <th>r</th>\n",
       "    </tr>\n",
       "  </thead>\n",
       "  <tbody>\n",
       "    <tr>\n",
       "      <th>count</th>\n",
       "      <td>1679.000000</td>\n",
       "      <td>1679.000000</td>\n",
       "      <td>1678.000000</td>\n",
       "      <td>1679.000000</td>\n",
       "      <td>1680.000000</td>\n",
       "    </tr>\n",
       "    <tr>\n",
       "      <th>mean</th>\n",
       "      <td>15.072013</td>\n",
       "      <td>440.639445</td>\n",
       "      <td>438.241955</td>\n",
       "      <td>0.437519</td>\n",
       "      <td>0.030235</td>\n",
       "    </tr>\n",
       "    <tr>\n",
       "      <th>std</th>\n",
       "      <td>14.036492</td>\n",
       "      <td>13.130436</td>\n",
       "      <td>23.408989</td>\n",
       "      <td>7.057555</td>\n",
       "      <td>0.000557</td>\n",
       "    </tr>\n",
       "    <tr>\n",
       "      <th>min</th>\n",
       "      <td>0.125000</td>\n",
       "      <td>0.000000</td>\n",
       "      <td>375.000000</td>\n",
       "      <td>0.003968</td>\n",
       "      <td>0.029510</td>\n",
       "    </tr>\n",
       "    <tr>\n",
       "      <th>25%</th>\n",
       "      <td>2.255002</td>\n",
       "      <td>433.863864</td>\n",
       "      <td>420.000000</td>\n",
       "      <td>0.119048</td>\n",
       "      <td>0.029820</td>\n",
       "    </tr>\n",
       "    <tr>\n",
       "      <th>50%</th>\n",
       "      <td>11.220588</td>\n",
       "      <td>442.525366</td>\n",
       "      <td>440.000000</td>\n",
       "      <td>0.202381</td>\n",
       "      <td>0.030130</td>\n",
       "    </tr>\n",
       "    <tr>\n",
       "      <th>75%</th>\n",
       "      <td>25.745904</td>\n",
       "      <td>447.320414</td>\n",
       "      <td>455.000000</td>\n",
       "      <td>0.285714</td>\n",
       "      <td>0.030540</td>\n",
       "    </tr>\n",
       "    <tr>\n",
       "      <th>max</th>\n",
       "      <td>60.149367</td>\n",
       "      <td>455.880619</td>\n",
       "      <td>500.000000</td>\n",
       "      <td>250.000000</td>\n",
       "      <td>0.031880</td>\n",
       "    </tr>\n",
       "  </tbody>\n",
       "</table>\n",
       "</div>"
      ],
      "text/plain": [
       "             Value            S            K          tau            r\n",
       "count  1679.000000  1679.000000  1678.000000  1679.000000  1680.000000\n",
       "mean     15.072013   440.639445   438.241955     0.437519     0.030235\n",
       "std      14.036492    13.130436    23.408989     7.057555     0.000557\n",
       "min       0.125000     0.000000   375.000000     0.003968     0.029510\n",
       "25%       2.255002   433.863864   420.000000     0.119048     0.029820\n",
       "50%      11.220588   442.525366   440.000000     0.202381     0.030130\n",
       "75%      25.745904   447.320414   455.000000     0.285714     0.030540\n",
       "max      60.149367   455.880619   500.000000   250.000000     0.031880"
      ]
     },
     "execution_count": 3,
     "metadata": {},
     "output_type": "execute_result"
    }
   ],
   "source": [
    "train.describe()"
   ]
  },
  {
   "cell_type": "code",
   "execution_count": 4,
   "id": "2559253f",
   "metadata": {
    "ExecuteTime": {
     "end_time": "2022-04-05T04:03:52.232744Z",
     "start_time": "2022-04-05T04:03:52.212129Z"
    }
   },
   "outputs": [
    {
     "data": {
      "text/plain": [
       "Value    1\n",
       "S        1\n",
       "K        2\n",
       "tau      1\n",
       "r        0\n",
       "BS       0\n",
       "dtype: int64"
      ]
     },
     "execution_count": 4,
     "metadata": {},
     "output_type": "execute_result"
    }
   ],
   "source": [
    "train.isnull().sum()"
   ]
  },
  {
   "cell_type": "code",
   "execution_count": 3,
   "id": "8d944979",
   "metadata": {
    "ExecuteTime": {
     "end_time": "2022-04-05T04:03:52.893331Z",
     "start_time": "2022-04-05T04:03:52.881607Z"
    }
   },
   "outputs": [],
   "source": [
    "train = train.dropna()"
   ]
  },
  {
   "cell_type": "code",
   "execution_count": 6,
   "id": "2d1dd5e2",
   "metadata": {
    "ExecuteTime": {
     "end_time": "2022-04-05T04:03:53.714348Z",
     "start_time": "2022-04-05T04:03:53.701309Z"
    }
   },
   "outputs": [
    {
     "data": {
      "text/plain": [
       "Value    0\n",
       "S        0\n",
       "K        0\n",
       "tau      0\n",
       "r        0\n",
       "BS       0\n",
       "dtype: int64"
      ]
     },
     "execution_count": 6,
     "metadata": {},
     "output_type": "execute_result"
    }
   ],
   "source": [
    "train.isnull().sum()"
   ]
  },
  {
   "cell_type": "code",
   "execution_count": 7,
   "id": "33a4ae4f",
   "metadata": {
    "ExecuteTime": {
     "end_time": "2022-04-05T04:03:55.511330Z",
     "start_time": "2022-04-05T04:03:55.492511Z"
    }
   },
   "outputs": [
    {
     "data": {
      "text/plain": [
       "count    1678.000000\n",
       "mean        0.437643\n",
       "std         7.059657\n",
       "min         0.003968\n",
       "25%         0.119048\n",
       "50%         0.202381\n",
       "75%         0.285714\n",
       "max       250.000000\n",
       "Name: tau, dtype: float64"
      ]
     },
     "execution_count": 7,
     "metadata": {},
     "output_type": "execute_result"
    }
   ],
   "source": [
    "train['tau'].describe()"
   ]
  },
  {
   "cell_type": "code",
   "execution_count": 8,
   "id": "3ea4cd26",
   "metadata": {
    "ExecuteTime": {
     "end_time": "2022-04-05T04:04:01.555758Z",
     "start_time": "2022-04-05T04:04:01.532788Z"
    }
   },
   "outputs": [
    {
     "data": {
      "text/plain": [
       "879       0.000000\n",
       "1316    425.472331\n",
       "1147    425.472331\n",
       "780     425.472331\n",
       "835     425.472331\n",
       "           ...    \n",
       "871     455.880619\n",
       "1259    455.880619\n",
       "1571    455.880619\n",
       "663     455.880619\n",
       "1218    455.880619\n",
       "Name: S, Length: 1678, dtype: float64"
      ]
     },
     "execution_count": 8,
     "metadata": {},
     "output_type": "execute_result"
    }
   ],
   "source": [
    "train['S'].sort_values()"
   ]
  },
  {
   "cell_type": "code",
   "execution_count": 4,
   "id": "7a3acbf4",
   "metadata": {
    "ExecuteTime": {
     "end_time": "2022-04-05T04:04:04.461936Z",
     "start_time": "2022-04-05T04:04:04.448546Z"
    }
   },
   "outputs": [],
   "source": [
    "# drop rows with unreasonably high tau\n",
    "train.drop(train[(train.tau > 1)].index, inplace = True)\n",
    "# drop rows with 0 asset value\n",
    "train.drop(train[(train.S == 0)].index, inplace = True)"
   ]
  },
  {
   "cell_type": "code",
   "execution_count": 10,
   "id": "2d373bdf",
   "metadata": {
    "ExecuteTime": {
     "end_time": "2022-04-05T04:04:05.955219Z",
     "start_time": "2022-04-05T04:04:05.946977Z"
    }
   },
   "outputs": [
    {
     "data": {
      "text/plain": [
       "(1675, 6)"
      ]
     },
     "execution_count": 10,
     "metadata": {},
     "output_type": "execute_result"
    }
   ],
   "source": [
    "train.shape"
   ]
  },
  {
   "cell_type": "code",
   "execution_count": 5,
   "id": "6a19a949",
   "metadata": {
    "ExecuteTime": {
     "end_time": "2022-04-05T04:04:08.703011Z",
     "start_time": "2022-04-05T04:04:08.690247Z"
    }
   },
   "outputs": [],
   "source": [
    "# BS: 1=over 0=under\n",
    "train[\"BS\"] = np.where(train[\"BS\"] == 'Over', 1, 0)\n",
    "train['difference'] = train['S']-train['K']\n",
    "test['difference'] = test['S']-test['K']"
   ]
  },
  {
   "cell_type": "code",
   "execution_count": 6,
   "id": "b35ed666",
   "metadata": {
    "ExecuteTime": {
     "end_time": "2022-04-05T04:04:25.922924Z",
     "start_time": "2022-04-05T04:04:25.890610Z"
    }
   },
   "outputs": [
    {
     "data": {
      "text/html": [
       "<div>\n",
       "<style scoped>\n",
       "    .dataframe tbody tr th:only-of-type {\n",
       "        vertical-align: middle;\n",
       "    }\n",
       "\n",
       "    .dataframe tbody tr th {\n",
       "        vertical-align: top;\n",
       "    }\n",
       "\n",
       "    .dataframe thead th {\n",
       "        text-align: right;\n",
       "    }\n",
       "</style>\n",
       "<table border=\"1\" class=\"dataframe\">\n",
       "  <thead>\n",
       "    <tr style=\"text-align: right;\">\n",
       "      <th></th>\n",
       "      <th>Value</th>\n",
       "      <th>S</th>\n",
       "      <th>K</th>\n",
       "      <th>tau</th>\n",
       "      <th>r</th>\n",
       "      <th>BS</th>\n",
       "      <th>difference</th>\n",
       "    </tr>\n",
       "  </thead>\n",
       "  <tbody>\n",
       "    <tr>\n",
       "      <th>0</th>\n",
       "      <td>21.670404</td>\n",
       "      <td>431.623898</td>\n",
       "      <td>420.0</td>\n",
       "      <td>0.341270</td>\n",
       "      <td>0.03013</td>\n",
       "      <td>0</td>\n",
       "      <td>11.623898</td>\n",
       "    </tr>\n",
       "    <tr>\n",
       "      <th>1</th>\n",
       "      <td>0.125000</td>\n",
       "      <td>427.015526</td>\n",
       "      <td>465.0</td>\n",
       "      <td>0.166667</td>\n",
       "      <td>0.03126</td>\n",
       "      <td>1</td>\n",
       "      <td>-37.984474</td>\n",
       "    </tr>\n",
       "    <tr>\n",
       "      <th>2</th>\n",
       "      <td>20.691244</td>\n",
       "      <td>427.762336</td>\n",
       "      <td>415.0</td>\n",
       "      <td>0.265873</td>\n",
       "      <td>0.03116</td>\n",
       "      <td>0</td>\n",
       "      <td>12.762336</td>\n",
       "    </tr>\n",
       "    <tr>\n",
       "      <th>3</th>\n",
       "      <td>1.035002</td>\n",
       "      <td>451.711658</td>\n",
       "      <td>460.0</td>\n",
       "      <td>0.063492</td>\n",
       "      <td>0.02972</td>\n",
       "      <td>1</td>\n",
       "      <td>-8.288342</td>\n",
       "    </tr>\n",
       "    <tr>\n",
       "      <th>4</th>\n",
       "      <td>39.553020</td>\n",
       "      <td>446.718974</td>\n",
       "      <td>410.0</td>\n",
       "      <td>0.166667</td>\n",
       "      <td>0.02962</td>\n",
       "      <td>0</td>\n",
       "      <td>36.718974</td>\n",
       "    </tr>\n",
       "    <tr>\n",
       "      <th>...</th>\n",
       "      <td>...</td>\n",
       "      <td>...</td>\n",
       "      <td>...</td>\n",
       "      <td>...</td>\n",
       "      <td>...</td>\n",
       "      <td>...</td>\n",
       "      <td>...</td>\n",
       "    </tr>\n",
       "    <tr>\n",
       "      <th>1670</th>\n",
       "      <td>1.470000</td>\n",
       "      <td>444.397163</td>\n",
       "      <td>475.0</td>\n",
       "      <td>0.273810</td>\n",
       "      <td>0.03034</td>\n",
       "      <td>1</td>\n",
       "      <td>-30.602837</td>\n",
       "    </tr>\n",
       "    <tr>\n",
       "      <th>1671</th>\n",
       "      <td>34.927317</td>\n",
       "      <td>438.453825</td>\n",
       "      <td>410.0</td>\n",
       "      <td>0.301587</td>\n",
       "      <td>0.02972</td>\n",
       "      <td>0</td>\n",
       "      <td>28.453825</td>\n",
       "    </tr>\n",
       "    <tr>\n",
       "      <th>1672</th>\n",
       "      <td>41.127997</td>\n",
       "      <td>428.042219</td>\n",
       "      <td>390.0</td>\n",
       "      <td>0.170635</td>\n",
       "      <td>0.03188</td>\n",
       "      <td>0</td>\n",
       "      <td>38.042219</td>\n",
       "    </tr>\n",
       "    <tr>\n",
       "      <th>1673</th>\n",
       "      <td>0.440003</td>\n",
       "      <td>439.081203</td>\n",
       "      <td>480.0</td>\n",
       "      <td>0.293651</td>\n",
       "      <td>0.02962</td>\n",
       "      <td>1</td>\n",
       "      <td>-40.918797</td>\n",
       "    </tr>\n",
       "    <tr>\n",
       "      <th>1674</th>\n",
       "      <td>0.410002</td>\n",
       "      <td>432.167692</td>\n",
       "      <td>465.0</td>\n",
       "      <td>0.218254</td>\n",
       "      <td>0.02993</td>\n",
       "      <td>1</td>\n",
       "      <td>-32.832308</td>\n",
       "    </tr>\n",
       "  </tbody>\n",
       "</table>\n",
       "<p>1675 rows × 7 columns</p>\n",
       "</div>"
      ],
      "text/plain": [
       "          Value           S      K       tau        r  BS  difference\n",
       "0     21.670404  431.623898  420.0  0.341270  0.03013   0   11.623898\n",
       "1      0.125000  427.015526  465.0  0.166667  0.03126   1  -37.984474\n",
       "2     20.691244  427.762336  415.0  0.265873  0.03116   0   12.762336\n",
       "3      1.035002  451.711658  460.0  0.063492  0.02972   1   -8.288342\n",
       "4     39.553020  446.718974  410.0  0.166667  0.02962   0   36.718974\n",
       "...         ...         ...    ...       ...      ...  ..         ...\n",
       "1670   1.470000  444.397163  475.0  0.273810  0.03034   1  -30.602837\n",
       "1671  34.927317  438.453825  410.0  0.301587  0.02972   0   28.453825\n",
       "1672  41.127997  428.042219  390.0  0.170635  0.03188   0   38.042219\n",
       "1673   0.440003  439.081203  480.0  0.293651  0.02962   1  -40.918797\n",
       "1674   0.410002  432.167692  465.0  0.218254  0.02993   1  -32.832308\n",
       "\n",
       "[1675 rows x 7 columns]"
      ]
     },
     "execution_count": 6,
     "metadata": {},
     "output_type": "execute_result"
    }
   ],
   "source": [
    "train.index = range(1675)\n",
    "train"
   ]
  },
  {
   "cell_type": "code",
   "execution_count": 7,
   "id": "5f2b47eb",
   "metadata": {
    "ExecuteTime": {
     "end_time": "2022-04-05T04:04:29.265355Z",
     "start_time": "2022-04-05T04:04:29.231504Z"
    }
   },
   "outputs": [],
   "source": [
    "X = train.drop(['Value','BS'], axis=1)\n",
    "y1 = train.Value\n",
    "y2 = train.BS"
   ]
  },
  {
   "cell_type": "code",
   "execution_count": 8,
   "id": "3b275942",
   "metadata": {
    "ExecuteTime": {
     "end_time": "2022-04-05T04:44:38.288161Z",
     "start_time": "2022-04-05T04:44:38.220790Z"
    }
   },
   "outputs": [],
   "source": [
    "mms = MinMaxScaler()\n",
    "X_train_norm = mms.fit_transform(X)\n",
    "X_train_norm = pd.DataFrame(X_train_norm)\n",
    "\n",
    "test_norm = mms.transform(test)\n",
    "test_norm = pd.DataFrame(test_norm)"
   ]
  },
  {
   "cell_type": "markdown",
   "id": "f1ca49a0",
   "metadata": {
    "heading_collapsed": true
   },
   "source": [
    "## Regression Models"
   ]
  },
  {
   "cell_type": "code",
   "execution_count": 10,
   "id": "2b621243",
   "metadata": {
    "ExecuteTime": {
     "end_time": "2022-04-05T04:45:22.222370Z",
     "start_time": "2022-04-05T04:45:22.212100Z"
    },
    "hidden": true
   },
   "outputs": [],
   "source": [
    "kfolds_regresssion = KFold(n_splits = 10, random_state = 1, shuffle = True)"
   ]
  },
  {
   "cell_type": "markdown",
   "id": "a1aec150",
   "metadata": {
    "hidden": true
   },
   "source": [
    "### Linear Regression"
   ]
  },
  {
   "cell_type": "code",
   "execution_count": 47,
   "id": "8c1a2ed2",
   "metadata": {
    "ExecuteTime": {
     "end_time": "2022-04-05T04:45:38.301229Z",
     "start_time": "2022-04-05T04:45:38.184803Z"
    },
    "hidden": true
   },
   "outputs": [
    {
     "name": "stdout",
     "output_type": "stream",
     "text": [
      "1 0.9163544227662388\n",
      "2 0.9110066200369684\n",
      "3 0.90974179716826\n",
      "4 0.9010521078637411\n",
      "5 0.9030525894347359\n",
      "6 0.908377610886794\n",
      "7 0.9230301502345678\n",
      "8 0.9254153616767685\n",
      "9 0.9099173134349873\n",
      "10 0.9090589342880793\n",
      "Mean Score of Linear Regression: 0.9117006907791142\n"
     ]
    }
   ],
   "source": [
    "tot = 0\n",
    "niter = 0\n",
    "for train_index, test_index in kfolds_regresssion.split(X_train_norm):\n",
    "    X_train, X_test = X_train_norm.iloc[train_index], X_train_norm.iloc[test_index]\n",
    "    y_train, y_test = y1.iloc[train_index], y1.iloc[test_index]\n",
    "\n",
    "    model1 = LinearRegression()\n",
    "    model1.fit(X_train, y_train)\n",
    "    \n",
    "    predictions = model1.predict(X_test)\n",
    "    score = model1.score(X_test, y_test)\n",
    "    tot += score\n",
    "    niter += 1\n",
    "    print(niter, score)\n",
    "print(f'Mean Score of Linear Regression:', tot/niter)"
   ]
  },
  {
   "cell_type": "markdown",
   "id": "b142b1e0",
   "metadata": {
    "hidden": true
   },
   "source": [
    "### Random Forest"
   ]
  },
  {
   "cell_type": "code",
   "execution_count": 48,
   "id": "56ae7a5b",
   "metadata": {
    "ExecuteTime": {
     "end_time": "2022-04-05T04:45:47.949891Z",
     "start_time": "2022-04-05T04:45:43.966507Z"
    },
    "hidden": true
   },
   "outputs": [
    {
     "name": "stdout",
     "output_type": "stream",
     "text": [
      "1 0.998028095542038\n",
      "2 0.997744737681697\n",
      "3 0.9979324623764292\n",
      "4 0.9981152896997915\n",
      "5 0.9979261346396401\n",
      "6 0.9980624719508077\n",
      "7 0.9979826339712686\n",
      "8 0.9983447136160574\n",
      "9 0.9977886578759408\n",
      "10 0.9979919804775802\n",
      "Mean Score of Random Forest Regression Model: 0.997991717783125\n"
     ]
    }
   ],
   "source": [
    "# Random Forest\n",
    "tot = 0\n",
    "niter = 0\n",
    "for train_index, test_index in kfolds_regresssion.split(X_train_norm):\n",
    "    X_train, X_test = X_train_norm.iloc[train_index], X_train_norm.iloc[test_index]\n",
    "    y_train, y_test = y1.iloc[train_index], y1.iloc[test_index]\n",
    "    \n",
    "    model2 = RandomForestRegressor(\n",
    "        n_estimators=100, \n",
    "        max_depth=10, \n",
    "        max_features=3)\n",
    "    model2.fit(X_train, y_train)\n",
    "    \n",
    "    predictions = model2.predict(X_test)\n",
    "    score = model2.score(X_test, y_test)\n",
    "    tot += score\n",
    "    niter += 1\n",
    "    print(niter, score)\n",
    "print(f'Mean Score of Random Forest Regression Model:', tot/niter)"
   ]
  },
  {
   "cell_type": "markdown",
   "id": "521e4a44",
   "metadata": {
    "hidden": true
   },
   "source": [
    "### Light Gradient Boosting Model"
   ]
  },
  {
   "cell_type": "code",
   "execution_count": 11,
   "id": "e72e73ab",
   "metadata": {
    "ExecuteTime": {
     "end_time": "2022-04-05T04:45:54.783824Z",
     "start_time": "2022-04-05T04:45:52.768063Z"
    },
    "hidden": true
   },
   "outputs": [
    {
     "name": "stdout",
     "output_type": "stream",
     "text": [
      "1 0.9981096771464\n",
      "2 0.9975375992082138\n",
      "3 0.9987079242453245\n",
      "4 0.9991044959591617\n",
      "5 0.9990848585459264\n",
      "6 0.9987310400017855\n",
      "7 0.9973624721880021\n",
      "8 0.9975243012947617\n",
      "9 0.9983135916717084\n",
      "10 0.9987623258954854\n",
      "Mean Score of Light Gradient Boosting Model Model: 0.9983238286156769\n"
     ]
    }
   ],
   "source": [
    "tot = 0\n",
    "niter = 0\n",
    "for train_index, test_index in kfolds_regresssion.split(X_train_norm):\n",
    "    X_train, X_test = X_train_norm.iloc[train_index], X_train_norm.iloc[test_index]\n",
    "    y_train, y_test = y1.iloc[train_index], y1.iloc[test_index]\n",
    "    \n",
    "    model3 = lgb.LGBMRegressor(\n",
    "        num_leaves=31,\n",
    "        max_depth=10,\n",
    "        learning_rate=0.1,\n",
    "        n_estimators=200,\n",
    "        min_split_gain=0.0,\n",
    "    )\n",
    "    model3.fit(X_train, y_train)\n",
    "    \n",
    "    predictions = model3.predict(X_test)\n",
    "    score = model3.score(X_test, y_test)\n",
    "    tot += score\n",
    "    niter += 1\n",
    "    print(niter, score)\n",
    "print(f'Mean Score of Light Gradient Boosting Model Model:', tot/niter)"
   ]
  },
  {
   "cell_type": "code",
   "execution_count": 12,
   "id": "cc7cfee6",
   "metadata": {
    "ExecuteTime": {
     "end_time": "2022-04-05T04:45:59.925295Z",
     "start_time": "2022-04-05T04:45:59.893700Z"
    },
    "hidden": true
   },
   "outputs": [],
   "source": [
    "value_pred = model3.predict(test_norm)"
   ]
  },
  {
   "cell_type": "code",
   "execution_count": 51,
   "id": "de4b0147",
   "metadata": {
    "ExecuteTime": {
     "end_time": "2022-04-05T04:46:02.288948Z",
     "start_time": "2022-04-05T04:46:02.249534Z"
    },
    "hidden": true
   },
   "outputs": [
    {
     "data": {
      "text/plain": [
       "array([ 1.21149765, 18.26470147, 10.62467395, 23.96290985, 16.16379973])"
      ]
     },
     "execution_count": 51,
     "metadata": {},
     "output_type": "execute_result"
    }
   ],
   "source": [
    "model3.predict(test_norm)[:5]"
   ]
  },
  {
   "cell_type": "code",
   "execution_count": 14,
   "id": "9697dec7",
   "metadata": {
    "hidden": true
   },
   "outputs": [
    {
     "data": {
      "text/plain": [
       "1120"
      ]
     },
     "execution_count": 14,
     "metadata": {},
     "output_type": "execute_result"
    }
   ],
   "source": [
    "len(value_pred)"
   ]
  },
  {
   "cell_type": "code",
   "execution_count": 15,
   "id": "2a0fa8c4",
   "metadata": {
    "hidden": true
   },
   "outputs": [],
   "source": [
    "BS_pred=pd.read_csv('BS_pred.csv')"
   ]
  },
  {
   "cell_type": "code",
   "execution_count": 18,
   "id": "15dd4232",
   "metadata": {
    "hidden": true
   },
   "outputs": [
    {
     "data": {
      "text/plain": [
       "array([ 1.21149765, 18.26470147, 10.62467395, ...,  0.79900951,\n",
       "       23.98761033, 15.93625803])"
      ]
     },
     "execution_count": 18,
     "metadata": {},
     "output_type": "execute_result"
    }
   ],
   "source": [
    "pd.Series(value_pred).values"
   ]
  },
  {
   "cell_type": "code",
   "execution_count": 19,
   "id": "c0ce2adb",
   "metadata": {
    "hidden": true
   },
   "outputs": [
    {
     "data": {
      "text/plain": [
       "array([1, 0, 0, ..., 1, 0, 0], dtype=int64)"
      ]
     },
     "execution_count": 19,
     "metadata": {},
     "output_type": "execute_result"
    }
   ],
   "source": [
    "BS_pred['BS'].values"
   ]
  },
  {
   "cell_type": "code",
   "execution_count": 20,
   "id": "92d752e2",
   "metadata": {
    "hidden": true
   },
   "outputs": [],
   "source": [
    "final_pred=pd.DataFrame({ 'Value':pd.Series(value_pred).values,\n",
    "                        'BS':BS_pred['BS'].values})"
   ]
  },
  {
   "cell_type": "code",
   "execution_count": 21,
   "id": "d217b2bd",
   "metadata": {
    "hidden": true
   },
   "outputs": [
    {
     "data": {
      "text/html": [
       "<div>\n",
       "<style scoped>\n",
       "    .dataframe tbody tr th:only-of-type {\n",
       "        vertical-align: middle;\n",
       "    }\n",
       "\n",
       "    .dataframe tbody tr th {\n",
       "        vertical-align: top;\n",
       "    }\n",
       "\n",
       "    .dataframe thead th {\n",
       "        text-align: right;\n",
       "    }\n",
       "</style>\n",
       "<table border=\"1\" class=\"dataframe\">\n",
       "  <thead>\n",
       "    <tr style=\"text-align: right;\">\n",
       "      <th></th>\n",
       "      <th>Value</th>\n",
       "      <th>BS</th>\n",
       "    </tr>\n",
       "  </thead>\n",
       "  <tbody>\n",
       "    <tr>\n",
       "      <th>0</th>\n",
       "      <td>1.211498</td>\n",
       "      <td>1</td>\n",
       "    </tr>\n",
       "    <tr>\n",
       "      <th>1</th>\n",
       "      <td>18.264701</td>\n",
       "      <td>0</td>\n",
       "    </tr>\n",
       "    <tr>\n",
       "      <th>2</th>\n",
       "      <td>10.624674</td>\n",
       "      <td>0</td>\n",
       "    </tr>\n",
       "    <tr>\n",
       "      <th>3</th>\n",
       "      <td>23.962910</td>\n",
       "      <td>0</td>\n",
       "    </tr>\n",
       "    <tr>\n",
       "      <th>4</th>\n",
       "      <td>16.163800</td>\n",
       "      <td>0</td>\n",
       "    </tr>\n",
       "    <tr>\n",
       "      <th>...</th>\n",
       "      <td>...</td>\n",
       "      <td>...</td>\n",
       "    </tr>\n",
       "    <tr>\n",
       "      <th>1115</th>\n",
       "      <td>11.605233</td>\n",
       "      <td>1</td>\n",
       "    </tr>\n",
       "    <tr>\n",
       "      <th>1116</th>\n",
       "      <td>0.465658</td>\n",
       "      <td>1</td>\n",
       "    </tr>\n",
       "    <tr>\n",
       "      <th>1117</th>\n",
       "      <td>0.799010</td>\n",
       "      <td>1</td>\n",
       "    </tr>\n",
       "    <tr>\n",
       "      <th>1118</th>\n",
       "      <td>23.987610</td>\n",
       "      <td>0</td>\n",
       "    </tr>\n",
       "    <tr>\n",
       "      <th>1119</th>\n",
       "      <td>15.936258</td>\n",
       "      <td>0</td>\n",
       "    </tr>\n",
       "  </tbody>\n",
       "</table>\n",
       "<p>1120 rows × 2 columns</p>\n",
       "</div>"
      ],
      "text/plain": [
       "          Value  BS\n",
       "0      1.211498   1\n",
       "1     18.264701   0\n",
       "2     10.624674   0\n",
       "3     23.962910   0\n",
       "4     16.163800   0\n",
       "...         ...  ..\n",
       "1115  11.605233   1\n",
       "1116   0.465658   1\n",
       "1117   0.799010   1\n",
       "1118  23.987610   0\n",
       "1119  15.936258   0\n",
       "\n",
       "[1120 rows x 2 columns]"
      ]
     },
     "execution_count": 21,
     "metadata": {},
     "output_type": "execute_result"
    }
   ],
   "source": [
    "final_pred"
   ]
  },
  {
   "cell_type": "code",
   "execution_count": 22,
   "id": "2e6751a9",
   "metadata": {
    "hidden": true
   },
   "outputs": [],
   "source": [
    "final_pred.to_csv('group_15_prediction.csv',index=False)"
   ]
  },
  {
   "cell_type": "markdown",
   "id": "0fae1d26",
   "metadata": {},
   "source": [
    "## Classification Models"
   ]
  },
  {
   "cell_type": "markdown",
   "id": "3927973e",
   "metadata": {},
   "source": [
    "### Logistic Regression"
   ]
  },
  {
   "cell_type": "code",
   "execution_count": 9,
   "id": "24a2c8cf",
   "metadata": {
    "ExecuteTime": {
     "end_time": "2022-04-05T04:54:16.839932Z",
     "start_time": "2022-04-05T04:54:16.257717Z"
    }
   },
   "outputs": [
    {
     "name": "stdout",
     "output_type": "stream",
     "text": [
      "Warning: Maximum number of iterations has been exceeded.\n",
      "         Current function value: 0.210854\n",
      "         Iterations: 35\n",
      "Warning: Maximum number of iterations has been exceeded.\n",
      "         Current function value: 0.207108\n",
      "         Iterations: 35\n",
      "Warning: Maximum number of iterations has been exceeded.\n",
      "         Current function value: 0.196174\n",
      "         Iterations: 35\n",
      "Warning: Maximum number of iterations has been exceeded.\n",
      "         Current function value: 0.212754\n",
      "         Iterations: 35\n",
      "Warning: Maximum number of iterations has been exceeded.\n",
      "         Current function value: 0.206546\n",
      "         Iterations: 35\n"
     ]
    },
    {
     "name": "stderr",
     "output_type": "stream",
     "text": [
      "C:\\Users\\hp\\anaconda3\\lib\\site-packages\\statsmodels\\base\\model.py:566: ConvergenceWarning: Maximum Likelihood optimization failed to converge. Check mle_retvals\n",
      "  warnings.warn(\"Maximum Likelihood optimization failed to \"\n",
      "C:\\Users\\hp\\anaconda3\\lib\\site-packages\\statsmodels\\base\\model.py:566: ConvergenceWarning: Maximum Likelihood optimization failed to converge. Check mle_retvals\n",
      "  warnings.warn(\"Maximum Likelihood optimization failed to \"\n",
      "C:\\Users\\hp\\anaconda3\\lib\\site-packages\\statsmodels\\base\\model.py:566: ConvergenceWarning: Maximum Likelihood optimization failed to converge. Check mle_retvals\n",
      "  warnings.warn(\"Maximum Likelihood optimization failed to \"\n",
      "C:\\Users\\hp\\anaconda3\\lib\\site-packages\\statsmodels\\base\\model.py:566: ConvergenceWarning: Maximum Likelihood optimization failed to converge. Check mle_retvals\n",
      "  warnings.warn(\"Maximum Likelihood optimization failed to \"\n",
      "C:\\Users\\hp\\anaconda3\\lib\\site-packages\\statsmodels\\base\\model.py:566: ConvergenceWarning: Maximum Likelihood optimization failed to converge. Check mle_retvals\n",
      "  warnings.warn(\"Maximum Likelihood optimization failed to \"\n"
     ]
    },
    {
     "name": "stdout",
     "output_type": "stream",
     "text": [
      "Warning: Maximum number of iterations has been exceeded.\n",
      "         Current function value: 0.209525\n",
      "         Iterations: 35\n",
      "Warning: Maximum number of iterations has been exceeded.\n",
      "         Current function value: 0.215707\n",
      "         Iterations: 35\n",
      "Optimization terminated successfully.\n",
      "         Current function value: 0.208084\n",
      "         Iterations 15\n",
      "Warning: Maximum number of iterations has been exceeded.\n",
      "         Current function value: 0.202249\n",
      "         Iterations: 35\n",
      "Warning: Maximum number of iterations has been exceeded.\n",
      "         Current function value: 0.207148\n",
      "         Iterations: 35\n",
      "classification errors using 10-fold CV: [0.09523809523809523, 0.06547619047619048, 0.1130952380952381, 0.06547619047619048, 0.08333333333333333, 0.09580838323353294, 0.04790419161676647, 0.08982035928143713, 0.10179640718562874, 0.09580838323353294]\n",
      "\n",
      "mean of classification errors using 10-fold CV: 0.08537567721699459\n",
      "\n"
     ]
    },
    {
     "name": "stderr",
     "output_type": "stream",
     "text": [
      "C:\\Users\\hp\\anaconda3\\lib\\site-packages\\statsmodels\\base\\model.py:566: ConvergenceWarning: Maximum Likelihood optimization failed to converge. Check mle_retvals\n",
      "  warnings.warn(\"Maximum Likelihood optimization failed to \"\n",
      "C:\\Users\\hp\\anaconda3\\lib\\site-packages\\statsmodels\\base\\model.py:566: ConvergenceWarning: Maximum Likelihood optimization failed to converge. Check mle_retvals\n",
      "  warnings.warn(\"Maximum Likelihood optimization failed to \"\n",
      "C:\\Users\\hp\\anaconda3\\lib\\site-packages\\statsmodels\\base\\model.py:566: ConvergenceWarning: Maximum Likelihood optimization failed to converge. Check mle_retvals\n",
      "  warnings.warn(\"Maximum Likelihood optimization failed to \"\n",
      "C:\\Users\\hp\\anaconda3\\lib\\site-packages\\statsmodels\\base\\model.py:566: ConvergenceWarning: Maximum Likelihood optimization failed to converge. Check mle_retvals\n",
      "  warnings.warn(\"Maximum Likelihood optimization failed to \"\n"
     ]
    }
   ],
   "source": [
    "kfolds = StratifiedKFold(n_splits = 10, random_state = 1, shuffle = True)\n",
    "\n",
    "cv_classification_errors_1 = []\n",
    "cv_auc_1 = []\n",
    "\n",
    "for train_index, test_index in kfolds.split(train,train['BS']):\n",
    "    # train the logistic model\n",
    "    result = smf.logit('BS ~ S + K + tau + r + difference', \n",
    "                       data=train, subset = train_index).fit()\n",
    "    # select the test set according to test_index produced by kfolds.split\n",
    "    X_test = train.loc[test_index,[\"S\",\"K\",'tau','r','difference']]\n",
    "    y_test = train.loc[test_index,\"BS\"]\n",
    "    # compute the probabilities of test data\n",
    "    result_prob = result.predict(X_test)\n",
    "    # select 0.5 as the threshold\n",
    "    result_pred = (result_prob > 0.5)\n",
    "    # compute the classification error\n",
    "    classification_error = np.mean(result_pred != y_test)\n",
    "    # add the computed classification error to \"cv_classification_errors_1\" to\n",
    "    # store the result\n",
    "    cv_classification_errors_1.append(classification_error)\n",
    "    \n",
    "    # calculate the auc\n",
    "    fpr,tpr,threshold = roc_curve(y_test, result_prob)\n",
    "    roc_auc = auc(fpr,tpr)\n",
    "    # add the computed auc to \"cv_auc_1\" to store the result\n",
    "    cv_auc_1.append(roc_auc)\n",
    "    \n",
    "    \n",
    "print(\"classification errors using 10-fold CV: {}\\n\".\n",
    "      format(cv_classification_errors_1))\n",
    "print(\"mean of classification errors using 10-fold CV: {}\\n\".\n",
    "      format(np.mean(cv_classification_errors_1)))"
   ]
  },
  {
   "cell_type": "code",
   "execution_count": 10,
   "id": "6ae296e3",
   "metadata": {
    "ExecuteTime": {
     "end_time": "2022-04-05T04:54:19.686051Z",
     "start_time": "2022-04-05T04:54:19.546460Z"
    }
   },
   "outputs": [
    {
     "name": "stdout",
     "output_type": "stream",
     "text": [
      "classification errors using 10-fold CV: [0.08333333333333333, 0.07142857142857142, 0.08333333333333333, 0.06547619047619048, 0.1130952380952381, 0.08982035928143713, 0.04790419161676647, 0.08982035928143713, 0.10179640718562874, 0.10778443113772455]\n",
      "\n",
      "mean of classification errors using 10-fold CV: 0.08537924151696608\n",
      "\n"
     ]
    }
   ],
   "source": [
    "cv_classification_errors_1 = []\n",
    "cv_auc_1 = []\n",
    "\n",
    "for train_index, test_index in kfolds.split(train,train['BS']):\n",
    "    # train the decision tree model\n",
    "    result = DecisionTreeClassifier().fit(train.loc[train_index,[\"S\",\"K\",'tau','r','difference']], train.loc[train_index,\"BS\"])\n",
    "    # select the test set according to test_index produced by kfolds.split\n",
    "    X_test = train.loc[test_index,[\"S\",\"K\",'tau','r','difference']]\n",
    "    y_test = train.loc[test_index,\"BS\"]\n",
    "    # compute the probabilities of test data\n",
    "    result_prob = result.predict(X_test)\n",
    "    # select 0.5 as the threshold\n",
    "    result_pred = (result_prob > 0.5)\n",
    "    # compute the classification error\n",
    "    classification_error = np.mean(result_pred != y_test)\n",
    "    # add the computed classification error to \"cv_classification_errors_1\" to\n",
    "    # store the result\n",
    "    cv_classification_errors_1.append(classification_error)\n",
    "    \n",
    "    # calculate the auc\n",
    "    fpr,tpr,threshold = roc_curve(y_test, result_prob)\n",
    "    roc_auc = auc(fpr,tpr)\n",
    "    # add the computed auc to \"cv_auc_1\" to store the result\n",
    "    cv_auc_1.append(roc_auc)\n",
    "    \n",
    "    \n",
    "print(\"classification errors using 10-fold CV: {}\\n\".\n",
    "      format(cv_classification_errors_1))\n",
    "print(\"mean of classification errors using 10-fold CV: {}\\n\".\n",
    "      format(np.mean(cv_classification_errors_1)))"
   ]
  },
  {
   "cell_type": "code",
   "execution_count": 11,
   "id": "611f8cc1",
   "metadata": {
    "ExecuteTime": {
     "end_time": "2022-04-05T04:55:16.445666Z",
     "start_time": "2022-04-05T04:55:13.339057Z"
    }
   },
   "outputs": [
    {
     "name": "stdout",
     "output_type": "stream",
     "text": [
      "classification errors using 10-fold CV: [0.07142857142857142, 0.05952380952380952, 0.07142857142857142, 0.05357142857142857, 0.07142857142857142, 0.059880239520958084, 0.04790419161676647, 0.0718562874251497, 0.09580838323353294, 0.0718562874251497]\n",
      "\n",
      "mean of classification errors using 10-fold CV: 0.06746863416025092\n",
      "\n"
     ]
    }
   ],
   "source": [
    "cv_classification_errors_1 = []\n",
    "cv_auc_1 = []\n",
    "\n",
    "for train_index, test_index in kfolds.split(train,train['BS']):\n",
    "    # train the random forest model\n",
    "    result = RandomForestClassifier().fit(train.loc[train_index,[\"S\",\"K\",'tau','r','difference']], train.loc[train_index,\"BS\"])\n",
    "    # select the test set according to test_index produced by kfolds.split\n",
    "    X_test = train.loc[test_index,[\"S\",\"K\",'tau','r','difference']]\n",
    "    y_test = train.loc[test_index,\"BS\"]\n",
    "    # compute the probabilities of test data\n",
    "    result_prob = result.predict(X_test)\n",
    "    # select 0.5 as the threshold\n",
    "    result_pred = (result_prob > 0.5)\n",
    "    # compute the classification error\n",
    "    classification_error = np.mean(result_pred != y_test)\n",
    "    # add the computed classification error to \"cv_classification_errors_1\" to\n",
    "    # store the result\n",
    "    cv_classification_errors_1.append(classification_error)\n",
    "    \n",
    "    # calculate the auc\n",
    "    fpr,tpr,threshold = roc_curve(y_test, result_prob)\n",
    "    roc_auc = auc(fpr,tpr)\n",
    "    # add the computed auc to \"cv_auc_1\" to store the result\n",
    "    cv_auc_1.append(roc_auc)\n",
    "    \n",
    "    \n",
    "print(\"classification errors using 10-fold CV: {}\\n\".\n",
    "      format(cv_classification_errors_1))\n",
    "print(\"mean of classification errors using 10-fold CV: {}\\n\".\n",
    "      format(np.mean(cv_classification_errors_1)))"
   ]
  },
  {
   "cell_type": "code",
   "execution_count": 20,
   "id": "9cec38d3",
   "metadata": {},
   "outputs": [
    {
     "name": "stdout",
     "output_type": "stream",
     "text": [
      "classification errors using 10-fold CV: [0.10119047619047619, 0.08928571428571429, 0.10714285714285714, 0.07738095238095238, 0.09523809523809523, 0.0718562874251497, 0.0718562874251497, 0.0658682634730539, 0.09580838323353294, 0.10179640718562874]\n",
      "\n",
      "mean of classification errors using 10-fold CV: 0.08774237239806101\n",
      "\n"
     ]
    }
   ],
   "source": [
    "from sklearn.neighbors import KNeighborsClassifier\n",
    "cv_classification_errors_1 = []\n",
    "cv_auc_1 = []\n",
    "\n",
    "for train_index, test_index in kfolds.split(train,train['BS']):\n",
    "    # train the knn model\n",
    "    result = KNeighborsClassifier(n_neighbors = 10).fit(train.loc[train_index,[\"S\",\"K\",'tau','r','difference']], train.loc[train_index,\"BS\"])\n",
    "    # select the test set according to test_index produced by kfolds.split\n",
    "    X_test = train.loc[test_index,[\"S\",\"K\",'tau','r','difference']]\n",
    "    y_test = train.loc[test_index,\"BS\"]\n",
    "    # compute the probabilities of test data\n",
    "    result_prob = result.predict(X_test)\n",
    "    # select 0.5 as the threshold\n",
    "    result_pred = (result_prob > 0.5)\n",
    "    # compute the classification error\n",
    "    classification_error = np.mean(result_pred != y_test)\n",
    "    # add the computed classification error to \"cv_classification_errors_1\" to\n",
    "    # store the result\n",
    "    cv_classification_errors_1.append(classification_error)\n",
    "    \n",
    "    # calculate the auc\n",
    "    fpr,tpr,threshold = roc_curve(y_test, result_prob)\n",
    "    roc_auc = auc(fpr,tpr)\n",
    "    # add the computed auc to \"cv_auc_1\" to store the result\n",
    "    cv_auc_1.append(roc_auc)\n",
    "    \n",
    "    \n",
    "print(\"classification errors using 10-fold CV: {}\\n\".\n",
    "      format(cv_classification_errors_1))\n",
    "print(\"mean of classification errors using 10-fold CV: {}\\n\".\n",
    "       format(np.mean(cv_classification_errors_1)))"
   ]
  },
  {
   "cell_type": "code",
   "execution_count": 21,
   "id": "7d1477b8",
   "metadata": {},
   "outputs": [
    {
     "name": "stdout",
     "output_type": "stream",
     "text": [
      "classification errors using 10-fold CV: [0.08333333333333333, 0.07738095238095238, 0.1130952380952381, 0.07738095238095238, 0.09523809523809523, 0.10179640718562874, 0.05389221556886228, 0.08982035928143713, 0.10179640718562874, 0.10778443113772455]\n",
      "\n",
      "mean of classification errors using 10-fold CV: 0.09015183917878529\n",
      "\n"
     ]
    }
   ],
   "source": [
    "from sklearn import svm\n",
    "cv_classification_errors_1 = []\n",
    "cv_auc_1 = []\n",
    "\n",
    "for train_index, test_index in kfolds.split(train,train['BS']):\n",
    "    # train the knn model\n",
    "    result = svm.SVC().fit(train.loc[train_index,[\"S\",\"K\",'tau','r','difference']], train.loc[train_index,\"BS\"])\n",
    "    # select the test set according to test_index produced by kfolds.split\n",
    "    X_test = train.loc[test_index,[\"S\",\"K\",'tau','r','difference']]\n",
    "    y_test = train.loc[test_index,\"BS\"]\n",
    "    # compute the probabilities of test data\n",
    "    result_prob = result.predict(X_test)\n",
    "    # select 0.5 as the threshold\n",
    "    result_pred = (result_prob > 0.5)\n",
    "    # compute the classification error\n",
    "    classification_error = np.mean(result_pred != y_test)\n",
    "    # add the computed classification error to \"cv_classification_errors_1\" to\n",
    "    # store the result\n",
    "    cv_classification_errors_1.append(classification_error)\n",
    "    \n",
    "    # calculate the auc\n",
    "    fpr,tpr,threshold = roc_curve(y_test, result_prob)\n",
    "    roc_auc = auc(fpr,tpr)\n",
    "    # add the computed auc to \"cv_auc_1\" to store the result\n",
    "    cv_auc_1.append(roc_auc)\n",
    "\n",
    "print(\"classification errors using 10-fold CV: {}\\n\".\n",
    "      format(cv_classification_errors_1))\n",
    "print(\"mean of classification errors using 10-fold CV: {}\\n\".\n",
    "       format(np.mean(cv_classification_errors_1)))"
   ]
  },
  {
   "cell_type": "code",
   "execution_count": 58,
   "id": "494dd457",
   "metadata": {
    "ExecuteTime": {
     "end_time": "2022-04-05T04:55:23.373770Z",
     "start_time": "2022-04-05T04:55:23.020973Z"
    }
   },
   "outputs": [],
   "source": [
    "final_result = RandomForestClassifier().fit(train[[\"S\",\"K\",'tau','r','difference']], train[\"BS\"].ravel())\n",
    "BS_pred = final_result.predict(test)"
   ]
  },
  {
   "cell_type": "code",
   "execution_count": 59,
   "id": "1ab31116",
   "metadata": {
    "ExecuteTime": {
     "end_time": "2022-04-05T04:55:24.363263Z",
     "start_time": "2022-04-05T04:55:24.352535Z"
    }
   },
   "outputs": [
    {
     "data": {
      "text/plain": [
       "array([1, 0, 0, ..., 1, 0, 0])"
      ]
     },
     "execution_count": 59,
     "metadata": {},
     "output_type": "execute_result"
    }
   ],
   "source": [
    "BS_pred"
   ]
  },
  {
   "cell_type": "code",
   "execution_count": 73,
   "id": "7fb88bcc",
   "metadata": {
    "ExecuteTime": {
     "end_time": "2022-04-05T04:58:19.840783Z",
     "start_time": "2022-04-05T04:58:19.614433Z"
    }
   },
   "outputs": [],
   "source": [
    "pd.DataFrame([value_pred, BS_pred]).transpose().rename(columns={0:'value_pred', 1:'BS_pred'}).to_csv('pred.csv')"
   ]
  },
  {
   "cell_type": "code",
   "execution_count": null,
   "id": "dded8f3b",
   "metadata": {},
   "outputs": [],
   "source": []
  }
 ],
 "metadata": {
  "kernelspec": {
   "display_name": "Python 3",
   "language": "python",
   "name": "python3"
  },
  "language_info": {
   "codemirror_mode": {
    "name": "ipython",
    "version": 3
   },
   "file_extension": ".py",
   "mimetype": "text/x-python",
   "name": "python",
   "nbconvert_exporter": "python",
   "pygments_lexer": "ipython3",
   "version": "3.8.8"
  },
  "toc": {
   "base_numbering": 1,
   "nav_menu": {},
   "number_sections": false,
   "sideBar": true,
   "skip_h1_title": false,
   "title_cell": "Table of Contents",
   "title_sidebar": "Contents",
   "toc_cell": false,
   "toc_position": {},
   "toc_section_display": true,
   "toc_window_display": false
  },
  "varInspector": {
   "cols": {
    "lenName": 16,
    "lenType": 16,
    "lenVar": 40
   },
   "kernels_config": {
    "python": {
     "delete_cmd_postfix": "",
     "delete_cmd_prefix": "del ",
     "library": "var_list.py",
     "varRefreshCmd": "print(var_dic_list())"
    },
    "r": {
     "delete_cmd_postfix": ") ",
     "delete_cmd_prefix": "rm(",
     "library": "var_list.r",
     "varRefreshCmd": "cat(var_dic_list()) "
    }
   },
   "types_to_exclude": [
    "module",
    "function",
    "builtin_function_or_method",
    "instance",
    "_Feature"
   ],
   "window_display": false
  }
 },
 "nbformat": 4,
 "nbformat_minor": 5
}
