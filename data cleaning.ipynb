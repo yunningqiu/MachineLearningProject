{
 "cells": [
  {
   "cell_type": "code",
   "execution_count": 1,
   "id": "d4fc4271",
   "metadata": {},
   "outputs": [],
   "source": [
    "import pandas as pd\n",
    "import numpy as np"
   ]
  },
  {
   "cell_type": "code",
   "execution_count": 2,
   "id": "d17b9d43",
   "metadata": {},
   "outputs": [],
   "source": [
    "predict = pd.read_csv('group_0_prediction.csv')\n",
    "test = pd.read_csv('option_test_wolabel.csv')\n",
    "train = pd.read_csv('option_train.csv')"
   ]
  },
  {
   "cell_type": "code",
   "execution_count": 3,
   "id": "4bdb579d",
   "metadata": {},
   "outputs": [
    {
     "data": {
      "text/html": [
       "<div>\n",
       "<style scoped>\n",
       "    .dataframe tbody tr th:only-of-type {\n",
       "        vertical-align: middle;\n",
       "    }\n",
       "\n",
       "    .dataframe tbody tr th {\n",
       "        vertical-align: top;\n",
       "    }\n",
       "\n",
       "    .dataframe thead th {\n",
       "        text-align: right;\n",
       "    }\n",
       "</style>\n",
       "<table border=\"1\" class=\"dataframe\">\n",
       "  <thead>\n",
       "    <tr style=\"text-align: right;\">\n",
       "      <th></th>\n",
       "      <th>Value</th>\n",
       "      <th>BS</th>\n",
       "    </tr>\n",
       "  </thead>\n",
       "  <tbody>\n",
       "    <tr>\n",
       "      <th>count</th>\n",
       "      <td>1120.000000</td>\n",
       "      <td>1120.000000</td>\n",
       "    </tr>\n",
       "    <tr>\n",
       "      <th>mean</th>\n",
       "      <td>3.402876</td>\n",
       "      <td>0.352679</td>\n",
       "    </tr>\n",
       "    <tr>\n",
       "      <th>std</th>\n",
       "      <td>57.971179</td>\n",
       "      <td>0.478017</td>\n",
       "    </tr>\n",
       "    <tr>\n",
       "      <th>min</th>\n",
       "      <td>0.010000</td>\n",
       "      <td>0.000000</td>\n",
       "    </tr>\n",
       "    <tr>\n",
       "      <th>25%</th>\n",
       "      <td>1.000000</td>\n",
       "      <td>0.000000</td>\n",
       "    </tr>\n",
       "    <tr>\n",
       "      <th>50%</th>\n",
       "      <td>1.000000</td>\n",
       "      <td>0.000000</td>\n",
       "    </tr>\n",
       "    <tr>\n",
       "      <th>75%</th>\n",
       "      <td>1.000000</td>\n",
       "      <td>1.000000</td>\n",
       "    </tr>\n",
       "    <tr>\n",
       "      <th>max</th>\n",
       "      <td>1903.000000</td>\n",
       "      <td>1.000000</td>\n",
       "    </tr>\n",
       "  </tbody>\n",
       "</table>\n",
       "</div>"
      ],
      "text/plain": [
       "             Value           BS\n",
       "count  1120.000000  1120.000000\n",
       "mean      3.402876     0.352679\n",
       "std      57.971179     0.478017\n",
       "min       0.010000     0.000000\n",
       "25%       1.000000     0.000000\n",
       "50%       1.000000     0.000000\n",
       "75%       1.000000     1.000000\n",
       "max    1903.000000     1.000000"
      ]
     },
     "execution_count": 3,
     "metadata": {},
     "output_type": "execute_result"
    }
   ],
   "source": [
    "predict.describe()"
   ]
  },
  {
   "cell_type": "code",
   "execution_count": 4,
   "id": "057a64df",
   "metadata": {},
   "outputs": [
    {
     "data": {
      "text/html": [
       "<div>\n",
       "<style scoped>\n",
       "    .dataframe tbody tr th:only-of-type {\n",
       "        vertical-align: middle;\n",
       "    }\n",
       "\n",
       "    .dataframe tbody tr th {\n",
       "        vertical-align: top;\n",
       "    }\n",
       "\n",
       "    .dataframe thead th {\n",
       "        text-align: right;\n",
       "    }\n",
       "</style>\n",
       "<table border=\"1\" class=\"dataframe\">\n",
       "  <thead>\n",
       "    <tr style=\"text-align: right;\">\n",
       "      <th></th>\n",
       "      <th>S</th>\n",
       "      <th>K</th>\n",
       "      <th>tau</th>\n",
       "      <th>r</th>\n",
       "    </tr>\n",
       "  </thead>\n",
       "  <tbody>\n",
       "    <tr>\n",
       "      <th>count</th>\n",
       "      <td>1120.000000</td>\n",
       "      <td>1120.000000</td>\n",
       "      <td>1120.000000</td>\n",
       "      <td>1120.000000</td>\n",
       "    </tr>\n",
       "    <tr>\n",
       "      <th>mean</th>\n",
       "      <td>441.110753</td>\n",
       "      <td>440.406250</td>\n",
       "      <td>0.203589</td>\n",
       "      <td>0.030223</td>\n",
       "    </tr>\n",
       "    <tr>\n",
       "      <th>std</th>\n",
       "      <td>7.630218</td>\n",
       "      <td>23.788616</td>\n",
       "      <td>0.103300</td>\n",
       "      <td>0.000542</td>\n",
       "    </tr>\n",
       "    <tr>\n",
       "      <th>min</th>\n",
       "      <td>425.472331</td>\n",
       "      <td>375.000000</td>\n",
       "      <td>0.003968</td>\n",
       "      <td>0.029510</td>\n",
       "    </tr>\n",
       "    <tr>\n",
       "      <th>25%</th>\n",
       "      <td>433.734305</td>\n",
       "      <td>420.000000</td>\n",
       "      <td>0.115079</td>\n",
       "      <td>0.029820</td>\n",
       "    </tr>\n",
       "    <tr>\n",
       "      <th>50%</th>\n",
       "      <td>443.411426</td>\n",
       "      <td>440.000000</td>\n",
       "      <td>0.206349</td>\n",
       "      <td>0.030130</td>\n",
       "    </tr>\n",
       "    <tr>\n",
       "      <th>75%</th>\n",
       "      <td>447.350699</td>\n",
       "      <td>460.000000</td>\n",
       "      <td>0.285714</td>\n",
       "      <td>0.030440</td>\n",
       "    </tr>\n",
       "    <tr>\n",
       "      <th>max</th>\n",
       "      <td>455.880619</td>\n",
       "      <td>500.000000</td>\n",
       "      <td>0.392857</td>\n",
       "      <td>0.031880</td>\n",
       "    </tr>\n",
       "  </tbody>\n",
       "</table>\n",
       "</div>"
      ],
      "text/plain": [
       "                 S            K          tau            r\n",
       "count  1120.000000  1120.000000  1120.000000  1120.000000\n",
       "mean    441.110753   440.406250     0.203589     0.030223\n",
       "std       7.630218    23.788616     0.103300     0.000542\n",
       "min     425.472331   375.000000     0.003968     0.029510\n",
       "25%     433.734305   420.000000     0.115079     0.029820\n",
       "50%     443.411426   440.000000     0.206349     0.030130\n",
       "75%     447.350699   460.000000     0.285714     0.030440\n",
       "max     455.880619   500.000000     0.392857     0.031880"
      ]
     },
     "execution_count": 4,
     "metadata": {},
     "output_type": "execute_result"
    }
   ],
   "source": [
    "test.describe()"
   ]
  },
  {
   "cell_type": "code",
   "execution_count": 5,
   "id": "89c9f3bf",
   "metadata": {},
   "outputs": [
    {
     "data": {
      "text/html": [
       "<div>\n",
       "<style scoped>\n",
       "    .dataframe tbody tr th:only-of-type {\n",
       "        vertical-align: middle;\n",
       "    }\n",
       "\n",
       "    .dataframe tbody tr th {\n",
       "        vertical-align: top;\n",
       "    }\n",
       "\n",
       "    .dataframe thead th {\n",
       "        text-align: right;\n",
       "    }\n",
       "</style>\n",
       "<table border=\"1\" class=\"dataframe\">\n",
       "  <thead>\n",
       "    <tr style=\"text-align: right;\">\n",
       "      <th></th>\n",
       "      <th>Value</th>\n",
       "      <th>S</th>\n",
       "      <th>K</th>\n",
       "      <th>tau</th>\n",
       "      <th>r</th>\n",
       "    </tr>\n",
       "  </thead>\n",
       "  <tbody>\n",
       "    <tr>\n",
       "      <th>count</th>\n",
       "      <td>1679.000000</td>\n",
       "      <td>1679.000000</td>\n",
       "      <td>1678.000000</td>\n",
       "      <td>1679.000000</td>\n",
       "      <td>1680.000000</td>\n",
       "    </tr>\n",
       "    <tr>\n",
       "      <th>mean</th>\n",
       "      <td>15.072013</td>\n",
       "      <td>440.639445</td>\n",
       "      <td>438.241955</td>\n",
       "      <td>0.437519</td>\n",
       "      <td>0.030235</td>\n",
       "    </tr>\n",
       "    <tr>\n",
       "      <th>std</th>\n",
       "      <td>14.036492</td>\n",
       "      <td>13.130436</td>\n",
       "      <td>23.408989</td>\n",
       "      <td>7.057555</td>\n",
       "      <td>0.000557</td>\n",
       "    </tr>\n",
       "    <tr>\n",
       "      <th>min</th>\n",
       "      <td>0.125000</td>\n",
       "      <td>0.000000</td>\n",
       "      <td>375.000000</td>\n",
       "      <td>0.003968</td>\n",
       "      <td>0.029510</td>\n",
       "    </tr>\n",
       "    <tr>\n",
       "      <th>25%</th>\n",
       "      <td>2.255002</td>\n",
       "      <td>433.863864</td>\n",
       "      <td>420.000000</td>\n",
       "      <td>0.119048</td>\n",
       "      <td>0.029820</td>\n",
       "    </tr>\n",
       "    <tr>\n",
       "      <th>50%</th>\n",
       "      <td>11.220588</td>\n",
       "      <td>442.525366</td>\n",
       "      <td>440.000000</td>\n",
       "      <td>0.202381</td>\n",
       "      <td>0.030130</td>\n",
       "    </tr>\n",
       "    <tr>\n",
       "      <th>75%</th>\n",
       "      <td>25.745904</td>\n",
       "      <td>447.320414</td>\n",
       "      <td>455.000000</td>\n",
       "      <td>0.285714</td>\n",
       "      <td>0.030540</td>\n",
       "    </tr>\n",
       "    <tr>\n",
       "      <th>max</th>\n",
       "      <td>60.149367</td>\n",
       "      <td>455.880619</td>\n",
       "      <td>500.000000</td>\n",
       "      <td>250.000000</td>\n",
       "      <td>0.031880</td>\n",
       "    </tr>\n",
       "  </tbody>\n",
       "</table>\n",
       "</div>"
      ],
      "text/plain": [
       "             Value            S            K          tau            r\n",
       "count  1679.000000  1679.000000  1678.000000  1679.000000  1680.000000\n",
       "mean     15.072013   440.639445   438.241955     0.437519     0.030235\n",
       "std      14.036492    13.130436    23.408989     7.057555     0.000557\n",
       "min       0.125000     0.000000   375.000000     0.003968     0.029510\n",
       "25%       2.255002   433.863864   420.000000     0.119048     0.029820\n",
       "50%      11.220588   442.525366   440.000000     0.202381     0.030130\n",
       "75%      25.745904   447.320414   455.000000     0.285714     0.030540\n",
       "max      60.149367   455.880619   500.000000   250.000000     0.031880"
      ]
     },
     "execution_count": 5,
     "metadata": {},
     "output_type": "execute_result"
    }
   ],
   "source": [
    "train.describe()"
   ]
  },
  {
   "cell_type": "code",
   "execution_count": 6,
   "id": "2559253f",
   "metadata": {},
   "outputs": [
    {
     "data": {
      "text/plain": [
       "Value    1\n",
       "S        1\n",
       "K        2\n",
       "tau      1\n",
       "r        0\n",
       "BS       0\n",
       "dtype: int64"
      ]
     },
     "execution_count": 6,
     "metadata": {},
     "output_type": "execute_result"
    }
   ],
   "source": [
    "train.isnull().sum()"
   ]
  },
  {
   "cell_type": "code",
   "execution_count": 7,
   "id": "8d944979",
   "metadata": {},
   "outputs": [],
   "source": [
    "train = train.dropna()"
   ]
  },
  {
   "cell_type": "code",
   "execution_count": 8,
   "id": "2d1dd5e2",
   "metadata": {},
   "outputs": [
    {
     "data": {
      "text/plain": [
       "Value    0\n",
       "S        0\n",
       "K        0\n",
       "tau      0\n",
       "r        0\n",
       "BS       0\n",
       "dtype: int64"
      ]
     },
     "execution_count": 8,
     "metadata": {},
     "output_type": "execute_result"
    }
   ],
   "source": [
    "train.isnull().sum()"
   ]
  },
  {
   "cell_type": "code",
   "execution_count": 9,
   "id": "7a3acbf4",
   "metadata": {},
   "outputs": [],
   "source": [
    "train = train.loc[train['tau']<=1,]"
   ]
  },
  {
   "cell_type": "code",
   "execution_count": 10,
   "id": "33a4ae4f",
   "metadata": {},
   "outputs": [
    {
     "data": {
      "text/plain": [
       "count    1676.000000\n",
       "mean        0.201888\n",
       "std         0.099806\n",
       "min         0.003968\n",
       "25%         0.119048\n",
       "50%         0.202381\n",
       "75%         0.285714\n",
       "max         0.392857\n",
       "Name: tau, dtype: float64"
      ]
     },
     "execution_count": 10,
     "metadata": {},
     "output_type": "execute_result"
    }
   ],
   "source": [
    "train['tau'].describe()"
   ]
  },
  {
   "cell_type": "code",
   "execution_count": 11,
   "id": "3ea4cd26",
   "metadata": {},
   "outputs": [
    {
     "data": {
      "text/plain": [
       "879       0.000000\n",
       "534     425.472331\n",
       "602     425.472331\n",
       "1316    425.472331\n",
       "928     425.472331\n",
       "           ...    \n",
       "1259    455.880619\n",
       "1571    455.880619\n",
       "1218    455.880619\n",
       "507     455.880619\n",
       "663     455.880619\n",
       "Name: S, Length: 1676, dtype: float64"
      ]
     },
     "execution_count": 11,
     "metadata": {},
     "output_type": "execute_result"
    }
   ],
   "source": [
    "train['S'].sort_values()"
   ]
  },
  {
   "cell_type": "code",
   "execution_count": 12,
   "id": "b9476dbb",
   "metadata": {},
   "outputs": [
    {
     "data": {
      "text/plain": [
       "count    1675.000000\n",
       "mean      440.900665\n",
       "std         7.527414\n",
       "min       425.472331\n",
       "25%       433.875313\n",
       "50%       442.525366\n",
       "75%       447.320414\n",
       "max       455.880619\n",
       "Name: S, dtype: float64"
      ]
     },
     "execution_count": 12,
     "metadata": {},
     "output_type": "execute_result"
    }
   ],
   "source": [
    "train = train.loc[train['S']!=0,]\n",
    "train['S'].describe()"
   ]
  },
  {
   "cell_type": "code",
   "execution_count": 13,
   "id": "2d373bdf",
   "metadata": {},
   "outputs": [
    {
     "data": {
      "text/plain": [
       "(1675, 6)"
      ]
     },
     "execution_count": 13,
     "metadata": {},
     "output_type": "execute_result"
    }
   ],
   "source": [
    "train.shape"
   ]
  },
  {
   "cell_type": "code",
   "execution_count": 14,
   "id": "a66abdb2",
   "metadata": {},
   "outputs": [
    {
     "data": {
      "text/html": [
       "<div>\n",
       "<style scoped>\n",
       "    .dataframe tbody tr th:only-of-type {\n",
       "        vertical-align: middle;\n",
       "    }\n",
       "\n",
       "    .dataframe tbody tr th {\n",
       "        vertical-align: top;\n",
       "    }\n",
       "\n",
       "    .dataframe thead th {\n",
       "        text-align: right;\n",
       "    }\n",
       "</style>\n",
       "<table border=\"1\" class=\"dataframe\">\n",
       "  <thead>\n",
       "    <tr style=\"text-align: right;\">\n",
       "      <th></th>\n",
       "      <th>Value</th>\n",
       "      <th>S</th>\n",
       "      <th>K</th>\n",
       "      <th>tau</th>\n",
       "      <th>r</th>\n",
       "      <th>BS</th>\n",
       "    </tr>\n",
       "  </thead>\n",
       "  <tbody>\n",
       "    <tr>\n",
       "      <th>0</th>\n",
       "      <td>21.670404</td>\n",
       "      <td>431.623898</td>\n",
       "      <td>420.0</td>\n",
       "      <td>0.341270</td>\n",
       "      <td>0.03013</td>\n",
       "      <td>Under</td>\n",
       "    </tr>\n",
       "    <tr>\n",
       "      <th>1</th>\n",
       "      <td>0.125000</td>\n",
       "      <td>427.015526</td>\n",
       "      <td>465.0</td>\n",
       "      <td>0.166667</td>\n",
       "      <td>0.03126</td>\n",
       "      <td>Over</td>\n",
       "    </tr>\n",
       "    <tr>\n",
       "      <th>2</th>\n",
       "      <td>20.691244</td>\n",
       "      <td>427.762336</td>\n",
       "      <td>415.0</td>\n",
       "      <td>0.265873</td>\n",
       "      <td>0.03116</td>\n",
       "      <td>Under</td>\n",
       "    </tr>\n",
       "    <tr>\n",
       "      <th>3</th>\n",
       "      <td>1.035002</td>\n",
       "      <td>451.711658</td>\n",
       "      <td>460.0</td>\n",
       "      <td>0.063492</td>\n",
       "      <td>0.02972</td>\n",
       "      <td>Over</td>\n",
       "    </tr>\n",
       "    <tr>\n",
       "      <th>4</th>\n",
       "      <td>39.553020</td>\n",
       "      <td>446.718974</td>\n",
       "      <td>410.0</td>\n",
       "      <td>0.166667</td>\n",
       "      <td>0.02962</td>\n",
       "      <td>Under</td>\n",
       "    </tr>\n",
       "    <tr>\n",
       "      <th>...</th>\n",
       "      <td>...</td>\n",
       "      <td>...</td>\n",
       "      <td>...</td>\n",
       "      <td>...</td>\n",
       "      <td>...</td>\n",
       "      <td>...</td>\n",
       "    </tr>\n",
       "    <tr>\n",
       "      <th>1675</th>\n",
       "      <td>1.470000</td>\n",
       "      <td>444.397163</td>\n",
       "      <td>475.0</td>\n",
       "      <td>0.273810</td>\n",
       "      <td>0.03034</td>\n",
       "      <td>Over</td>\n",
       "    </tr>\n",
       "    <tr>\n",
       "      <th>1676</th>\n",
       "      <td>34.927317</td>\n",
       "      <td>438.453825</td>\n",
       "      <td>410.0</td>\n",
       "      <td>0.301587</td>\n",
       "      <td>0.02972</td>\n",
       "      <td>Under</td>\n",
       "    </tr>\n",
       "    <tr>\n",
       "      <th>1677</th>\n",
       "      <td>41.127997</td>\n",
       "      <td>428.042219</td>\n",
       "      <td>390.0</td>\n",
       "      <td>0.170635</td>\n",
       "      <td>0.03188</td>\n",
       "      <td>Under</td>\n",
       "    </tr>\n",
       "    <tr>\n",
       "      <th>1678</th>\n",
       "      <td>0.440003</td>\n",
       "      <td>439.081203</td>\n",
       "      <td>480.0</td>\n",
       "      <td>0.293651</td>\n",
       "      <td>0.02962</td>\n",
       "      <td>Over</td>\n",
       "    </tr>\n",
       "    <tr>\n",
       "      <th>1679</th>\n",
       "      <td>0.410002</td>\n",
       "      <td>432.167692</td>\n",
       "      <td>465.0</td>\n",
       "      <td>0.218254</td>\n",
       "      <td>0.02993</td>\n",
       "      <td>Over</td>\n",
       "    </tr>\n",
       "  </tbody>\n",
       "</table>\n",
       "<p>1675 rows × 6 columns</p>\n",
       "</div>"
      ],
      "text/plain": [
       "          Value           S      K       tau        r     BS\n",
       "0     21.670404  431.623898  420.0  0.341270  0.03013  Under\n",
       "1      0.125000  427.015526  465.0  0.166667  0.03126   Over\n",
       "2     20.691244  427.762336  415.0  0.265873  0.03116  Under\n",
       "3      1.035002  451.711658  460.0  0.063492  0.02972   Over\n",
       "4     39.553020  446.718974  410.0  0.166667  0.02962  Under\n",
       "...         ...         ...    ...       ...      ...    ...\n",
       "1675   1.470000  444.397163  475.0  0.273810  0.03034   Over\n",
       "1676  34.927317  438.453825  410.0  0.301587  0.02972  Under\n",
       "1677  41.127997  428.042219  390.0  0.170635  0.03188  Under\n",
       "1678   0.440003  439.081203  480.0  0.293651  0.02962   Over\n",
       "1679   0.410002  432.167692  465.0  0.218254  0.02993   Over\n",
       "\n",
       "[1675 rows x 6 columns]"
      ]
     },
     "execution_count": 14,
     "metadata": {},
     "output_type": "execute_result"
    }
   ],
   "source": [
    "train"
   ]
  },
  {
   "cell_type": "code",
   "execution_count": 15,
   "id": "b486d26a",
   "metadata": {},
   "outputs": [
    {
     "data": {
      "text/html": [
       "<div>\n",
       "<style scoped>\n",
       "    .dataframe tbody tr th:only-of-type {\n",
       "        vertical-align: middle;\n",
       "    }\n",
       "\n",
       "    .dataframe tbody tr th {\n",
       "        vertical-align: top;\n",
       "    }\n",
       "\n",
       "    .dataframe thead th {\n",
       "        text-align: right;\n",
       "    }\n",
       "</style>\n",
       "<table border=\"1\" class=\"dataframe\">\n",
       "  <thead>\n",
       "    <tr style=\"text-align: right;\">\n",
       "      <th></th>\n",
       "      <th>Value</th>\n",
       "      <th>S</th>\n",
       "      <th>K</th>\n",
       "      <th>tau</th>\n",
       "      <th>r</th>\n",
       "    </tr>\n",
       "  </thead>\n",
       "  <tbody>\n",
       "    <tr>\n",
       "      <th>count</th>\n",
       "      <td>1675.000000</td>\n",
       "      <td>1675.000000</td>\n",
       "      <td>1675.000000</td>\n",
       "      <td>1675.000000</td>\n",
       "      <td>1675.000000</td>\n",
       "    </tr>\n",
       "    <tr>\n",
       "      <th>mean</th>\n",
       "      <td>15.097481</td>\n",
       "      <td>440.900665</td>\n",
       "      <td>438.202985</td>\n",
       "      <td>0.201907</td>\n",
       "      <td>0.030236</td>\n",
       "    </tr>\n",
       "    <tr>\n",
       "      <th>std</th>\n",
       "      <td>14.043011</td>\n",
       "      <td>7.527414</td>\n",
       "      <td>23.409897</td>\n",
       "      <td>0.099833</td>\n",
       "      <td>0.000558</td>\n",
       "    </tr>\n",
       "    <tr>\n",
       "      <th>min</th>\n",
       "      <td>0.125000</td>\n",
       "      <td>425.472331</td>\n",
       "      <td>375.000000</td>\n",
       "      <td>0.003968</td>\n",
       "      <td>0.029510</td>\n",
       "    </tr>\n",
       "    <tr>\n",
       "      <th>25%</th>\n",
       "      <td>2.237501</td>\n",
       "      <td>433.875313</td>\n",
       "      <td>420.000000</td>\n",
       "      <td>0.119048</td>\n",
       "      <td>0.029820</td>\n",
       "    </tr>\n",
       "    <tr>\n",
       "      <th>50%</th>\n",
       "      <td>11.250000</td>\n",
       "      <td>442.525366</td>\n",
       "      <td>435.000000</td>\n",
       "      <td>0.202381</td>\n",
       "      <td>0.030130</td>\n",
       "    </tr>\n",
       "    <tr>\n",
       "      <th>75%</th>\n",
       "      <td>25.784245</td>\n",
       "      <td>447.320414</td>\n",
       "      <td>455.000000</td>\n",
       "      <td>0.285714</td>\n",
       "      <td>0.030540</td>\n",
       "    </tr>\n",
       "    <tr>\n",
       "      <th>max</th>\n",
       "      <td>60.149367</td>\n",
       "      <td>455.880619</td>\n",
       "      <td>500.000000</td>\n",
       "      <td>0.392857</td>\n",
       "      <td>0.031880</td>\n",
       "    </tr>\n",
       "  </tbody>\n",
       "</table>\n",
       "</div>"
      ],
      "text/plain": [
       "             Value            S            K          tau            r\n",
       "count  1675.000000  1675.000000  1675.000000  1675.000000  1675.000000\n",
       "mean     15.097481   440.900665   438.202985     0.201907     0.030236\n",
       "std      14.043011     7.527414    23.409897     0.099833     0.000558\n",
       "min       0.125000   425.472331   375.000000     0.003968     0.029510\n",
       "25%       2.237501   433.875313   420.000000     0.119048     0.029820\n",
       "50%      11.250000   442.525366   435.000000     0.202381     0.030130\n",
       "75%      25.784245   447.320414   455.000000     0.285714     0.030540\n",
       "max      60.149367   455.880619   500.000000     0.392857     0.031880"
      ]
     },
     "execution_count": 15,
     "metadata": {},
     "output_type": "execute_result"
    }
   ],
   "source": [
    "train.describe()"
   ]
  },
  {
   "cell_type": "code",
   "execution_count": null,
   "id": "35ca31cc",
   "metadata": {},
   "outputs": [],
   "source": []
  }
 ],
 "metadata": {
  "kernelspec": {
   "display_name": "Python 3 (ipykernel)",
   "language": "python",
   "name": "python3"
  },
  "language_info": {
   "codemirror_mode": {
    "name": "ipython",
    "version": 3
   },
   "file_extension": ".py",
   "mimetype": "text/x-python",
   "name": "python",
   "nbconvert_exporter": "python",
   "pygments_lexer": "ipython3",
   "version": "3.9.7"
  }
 },
 "nbformat": 4,
 "nbformat_minor": 5
}
