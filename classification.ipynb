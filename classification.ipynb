{
 "cells": [
  {
   "cell_type": "code",
   "execution_count": 2,
   "id": "d4fc4271",
   "metadata": {
    "ExecuteTime": {
     "end_time": "2022-04-16T21:59:11.496988Z",
     "start_time": "2022-04-16T21:59:08.757268Z"
    }
   },
   "outputs": [],
   "source": [
    "import pandas as pd\n",
    "import numpy as np\n",
    "\n",
    "import matplotlib.pyplot as plt\n",
    "import seaborn as sns\n",
    "\n",
    "from sklearn.model_selection import KFold ## for regression\n",
    "from sklearn.model_selection import StratifiedKFold ## recommended for classification\n",
    "import statsmodels.formula.api as smf\n",
    "from sklearn.metrics import roc_curve\n",
    "from sklearn.metrics import auc\n",
    "\n",
    "from sklearn.linear_model import LinearRegression\n",
    "from sklearn.linear_model import LogisticRegression\n",
    "from sklearn.linear_model import Ridge, RidgeCV, Lasso, LassoCV\n",
    "from sklearn.discriminant_analysis import LinearDiscriminantAnalysis\n",
    "from sklearn.ensemble import RandomForestRegressor\n",
    "from sklearn.ensemble import RandomForestClassifier\n",
    "from sklearn.tree import DecisionTreeClassifier\n",
    "from sklearn.tree import DecisionTreeRegressor\n",
    "import lightgbm as lgb\n",
    "\n",
    "from sklearn.preprocessing import StandardScaler\n",
    "from sklearn.preprocessing import MinMaxScaler"
   ]
  },
  {
   "cell_type": "code",
   "execution_count": 3,
   "id": "d17b9d43",
   "metadata": {
    "ExecuteTime": {
     "end_time": "2022-04-16T21:58:22.092122Z",
     "start_time": "2022-04-16T21:58:22.062244Z"
    }
   },
   "outputs": [],
   "source": [
    "test = pd.read_csv('option_test_wolabel.csv')\n",
    "train = pd.read_csv('option_train.csv')"
   ]
  },
  {
   "cell_type": "code",
   "execution_count": 4,
   "id": "325564a9",
   "metadata": {
    "ExecuteTime": {
     "end_time": "2022-04-16T21:58:22.666297Z",
     "start_time": "2022-04-16T21:58:22.615870Z"
    }
   },
   "outputs": [
    {
     "data": {
      "text/html": [
       "<div>\n",
       "<style scoped>\n",
       "    .dataframe tbody tr th:only-of-type {\n",
       "        vertical-align: middle;\n",
       "    }\n",
       "\n",
       "    .dataframe tbody tr th {\n",
       "        vertical-align: top;\n",
       "    }\n",
       "\n",
       "    .dataframe thead th {\n",
       "        text-align: right;\n",
       "    }\n",
       "</style>\n",
       "<table border=\"1\" class=\"dataframe\">\n",
       "  <thead>\n",
       "    <tr style=\"text-align: right;\">\n",
       "      <th></th>\n",
       "      <th>Value</th>\n",
       "      <th>S</th>\n",
       "      <th>K</th>\n",
       "      <th>tau</th>\n",
       "      <th>r</th>\n",
       "      <th>BS</th>\n",
       "    </tr>\n",
       "  </thead>\n",
       "  <tbody>\n",
       "    <tr>\n",
       "      <th>0</th>\n",
       "      <td>21.670404</td>\n",
       "      <td>431.623898</td>\n",
       "      <td>420.0</td>\n",
       "      <td>0.341270</td>\n",
       "      <td>0.03013</td>\n",
       "      <td>Under</td>\n",
       "    </tr>\n",
       "    <tr>\n",
       "      <th>1</th>\n",
       "      <td>0.125000</td>\n",
       "      <td>427.015526</td>\n",
       "      <td>465.0</td>\n",
       "      <td>0.166667</td>\n",
       "      <td>0.03126</td>\n",
       "      <td>Over</td>\n",
       "    </tr>\n",
       "    <tr>\n",
       "      <th>2</th>\n",
       "      <td>20.691244</td>\n",
       "      <td>427.762336</td>\n",
       "      <td>415.0</td>\n",
       "      <td>0.265873</td>\n",
       "      <td>0.03116</td>\n",
       "      <td>Under</td>\n",
       "    </tr>\n",
       "    <tr>\n",
       "      <th>3</th>\n",
       "      <td>1.035002</td>\n",
       "      <td>451.711658</td>\n",
       "      <td>460.0</td>\n",
       "      <td>0.063492</td>\n",
       "      <td>0.02972</td>\n",
       "      <td>Over</td>\n",
       "    </tr>\n",
       "    <tr>\n",
       "      <th>4</th>\n",
       "      <td>39.553020</td>\n",
       "      <td>446.718974</td>\n",
       "      <td>410.0</td>\n",
       "      <td>0.166667</td>\n",
       "      <td>0.02962</td>\n",
       "      <td>Under</td>\n",
       "    </tr>\n",
       "    <tr>\n",
       "      <th>...</th>\n",
       "      <td>...</td>\n",
       "      <td>...</td>\n",
       "      <td>...</td>\n",
       "      <td>...</td>\n",
       "      <td>...</td>\n",
       "      <td>...</td>\n",
       "    </tr>\n",
       "    <tr>\n",
       "      <th>1675</th>\n",
       "      <td>1.470000</td>\n",
       "      <td>444.397163</td>\n",
       "      <td>475.0</td>\n",
       "      <td>0.273810</td>\n",
       "      <td>0.03034</td>\n",
       "      <td>Over</td>\n",
       "    </tr>\n",
       "    <tr>\n",
       "      <th>1676</th>\n",
       "      <td>34.927317</td>\n",
       "      <td>438.453825</td>\n",
       "      <td>410.0</td>\n",
       "      <td>0.301587</td>\n",
       "      <td>0.02972</td>\n",
       "      <td>Under</td>\n",
       "    </tr>\n",
       "    <tr>\n",
       "      <th>1677</th>\n",
       "      <td>41.127997</td>\n",
       "      <td>428.042219</td>\n",
       "      <td>390.0</td>\n",
       "      <td>0.170635</td>\n",
       "      <td>0.03188</td>\n",
       "      <td>Under</td>\n",
       "    </tr>\n",
       "    <tr>\n",
       "      <th>1678</th>\n",
       "      <td>0.440003</td>\n",
       "      <td>439.081203</td>\n",
       "      <td>480.0</td>\n",
       "      <td>0.293651</td>\n",
       "      <td>0.02962</td>\n",
       "      <td>Over</td>\n",
       "    </tr>\n",
       "    <tr>\n",
       "      <th>1679</th>\n",
       "      <td>0.410002</td>\n",
       "      <td>432.167692</td>\n",
       "      <td>465.0</td>\n",
       "      <td>0.218254</td>\n",
       "      <td>0.02993</td>\n",
       "      <td>Over</td>\n",
       "    </tr>\n",
       "  </tbody>\n",
       "</table>\n",
       "<p>1680 rows × 6 columns</p>\n",
       "</div>"
      ],
      "text/plain": [
       "          Value           S      K       tau        r     BS\n",
       "0     21.670404  431.623898  420.0  0.341270  0.03013  Under\n",
       "1      0.125000  427.015526  465.0  0.166667  0.03126   Over\n",
       "2     20.691244  427.762336  415.0  0.265873  0.03116  Under\n",
       "3      1.035002  451.711658  460.0  0.063492  0.02972   Over\n",
       "4     39.553020  446.718974  410.0  0.166667  0.02962  Under\n",
       "...         ...         ...    ...       ...      ...    ...\n",
       "1675   1.470000  444.397163  475.0  0.273810  0.03034   Over\n",
       "1676  34.927317  438.453825  410.0  0.301587  0.02972  Under\n",
       "1677  41.127997  428.042219  390.0  0.170635  0.03188  Under\n",
       "1678   0.440003  439.081203  480.0  0.293651  0.02962   Over\n",
       "1679   0.410002  432.167692  465.0  0.218254  0.02993   Over\n",
       "\n",
       "[1680 rows x 6 columns]"
      ]
     },
     "execution_count": 4,
     "metadata": {},
     "output_type": "execute_result"
    }
   ],
   "source": [
    "pd.read_csv('option_train.csv')"
   ]
  },
  {
   "cell_type": "code",
   "execution_count": 5,
   "id": "89c9f3bf",
   "metadata": {
    "ExecuteTime": {
     "end_time": "2022-04-16T21:58:23.167394Z",
     "start_time": "2022-04-16T21:58:23.109140Z"
    }
   },
   "outputs": [
    {
     "data": {
      "text/html": [
       "<div>\n",
       "<style scoped>\n",
       "    .dataframe tbody tr th:only-of-type {\n",
       "        vertical-align: middle;\n",
       "    }\n",
       "\n",
       "    .dataframe tbody tr th {\n",
       "        vertical-align: top;\n",
       "    }\n",
       "\n",
       "    .dataframe thead th {\n",
       "        text-align: right;\n",
       "    }\n",
       "</style>\n",
       "<table border=\"1\" class=\"dataframe\">\n",
       "  <thead>\n",
       "    <tr style=\"text-align: right;\">\n",
       "      <th></th>\n",
       "      <th>Value</th>\n",
       "      <th>S</th>\n",
       "      <th>K</th>\n",
       "      <th>tau</th>\n",
       "      <th>r</th>\n",
       "    </tr>\n",
       "  </thead>\n",
       "  <tbody>\n",
       "    <tr>\n",
       "      <th>count</th>\n",
       "      <td>1679.000000</td>\n",
       "      <td>1679.000000</td>\n",
       "      <td>1678.000000</td>\n",
       "      <td>1679.000000</td>\n",
       "      <td>1680.000000</td>\n",
       "    </tr>\n",
       "    <tr>\n",
       "      <th>mean</th>\n",
       "      <td>15.072013</td>\n",
       "      <td>440.639445</td>\n",
       "      <td>438.241955</td>\n",
       "      <td>0.437519</td>\n",
       "      <td>0.030235</td>\n",
       "    </tr>\n",
       "    <tr>\n",
       "      <th>std</th>\n",
       "      <td>14.036492</td>\n",
       "      <td>13.130436</td>\n",
       "      <td>23.408989</td>\n",
       "      <td>7.057555</td>\n",
       "      <td>0.000557</td>\n",
       "    </tr>\n",
       "    <tr>\n",
       "      <th>min</th>\n",
       "      <td>0.125000</td>\n",
       "      <td>0.000000</td>\n",
       "      <td>375.000000</td>\n",
       "      <td>0.003968</td>\n",
       "      <td>0.029510</td>\n",
       "    </tr>\n",
       "    <tr>\n",
       "      <th>25%</th>\n",
       "      <td>2.255002</td>\n",
       "      <td>433.863864</td>\n",
       "      <td>420.000000</td>\n",
       "      <td>0.119048</td>\n",
       "      <td>0.029820</td>\n",
       "    </tr>\n",
       "    <tr>\n",
       "      <th>50%</th>\n",
       "      <td>11.220588</td>\n",
       "      <td>442.525366</td>\n",
       "      <td>440.000000</td>\n",
       "      <td>0.202381</td>\n",
       "      <td>0.030130</td>\n",
       "    </tr>\n",
       "    <tr>\n",
       "      <th>75%</th>\n",
       "      <td>25.745904</td>\n",
       "      <td>447.320414</td>\n",
       "      <td>455.000000</td>\n",
       "      <td>0.285714</td>\n",
       "      <td>0.030540</td>\n",
       "    </tr>\n",
       "    <tr>\n",
       "      <th>max</th>\n",
       "      <td>60.149367</td>\n",
       "      <td>455.880619</td>\n",
       "      <td>500.000000</td>\n",
       "      <td>250.000000</td>\n",
       "      <td>0.031880</td>\n",
       "    </tr>\n",
       "  </tbody>\n",
       "</table>\n",
       "</div>"
      ],
      "text/plain": [
       "             Value            S            K          tau            r\n",
       "count  1679.000000  1679.000000  1678.000000  1679.000000  1680.000000\n",
       "mean     15.072013   440.639445   438.241955     0.437519     0.030235\n",
       "std      14.036492    13.130436    23.408989     7.057555     0.000557\n",
       "min       0.125000     0.000000   375.000000     0.003968     0.029510\n",
       "25%       2.255002   433.863864   420.000000     0.119048     0.029820\n",
       "50%      11.220588   442.525366   440.000000     0.202381     0.030130\n",
       "75%      25.745904   447.320414   455.000000     0.285714     0.030540\n",
       "max      60.149367   455.880619   500.000000   250.000000     0.031880"
      ]
     },
     "execution_count": 5,
     "metadata": {},
     "output_type": "execute_result"
    }
   ],
   "source": [
    "train.describe()"
   ]
  },
  {
   "cell_type": "code",
   "execution_count": 6,
   "id": "2559253f",
   "metadata": {
    "ExecuteTime": {
     "end_time": "2022-04-16T21:58:23.543797Z",
     "start_time": "2022-04-16T21:58:23.527187Z"
    }
   },
   "outputs": [
    {
     "data": {
      "text/plain": [
       "Value    1\n",
       "S        1\n",
       "K        2\n",
       "tau      1\n",
       "r        0\n",
       "BS       0\n",
       "dtype: int64"
      ]
     },
     "execution_count": 6,
     "metadata": {},
     "output_type": "execute_result"
    }
   ],
   "source": [
    "train.isnull().sum()"
   ]
  },
  {
   "cell_type": "code",
   "execution_count": 7,
   "id": "8d944979",
   "metadata": {
    "ExecuteTime": {
     "end_time": "2022-04-16T21:58:23.887840Z",
     "start_time": "2022-04-16T21:58:23.871574Z"
    }
   },
   "outputs": [],
   "source": [
    "train = train.dropna()"
   ]
  },
  {
   "cell_type": "code",
   "execution_count": 8,
   "id": "2d1dd5e2",
   "metadata": {
    "ExecuteTime": {
     "end_time": "2022-04-16T21:58:24.264816Z",
     "start_time": "2022-04-16T21:58:24.253931Z"
    }
   },
   "outputs": [
    {
     "data": {
      "text/plain": [
       "Value    0\n",
       "S        0\n",
       "K        0\n",
       "tau      0\n",
       "r        0\n",
       "BS       0\n",
       "dtype: int64"
      ]
     },
     "execution_count": 8,
     "metadata": {},
     "output_type": "execute_result"
    }
   ],
   "source": [
    "train.isnull().sum()"
   ]
  },
  {
   "cell_type": "code",
   "execution_count": 9,
   "id": "33a4ae4f",
   "metadata": {
    "ExecuteTime": {
     "end_time": "2022-04-16T21:58:24.593262Z",
     "start_time": "2022-04-16T21:58:24.573843Z"
    }
   },
   "outputs": [
    {
     "data": {
      "text/plain": [
       "count    1678.000000\n",
       "mean        0.437643\n",
       "std         7.059657\n",
       "min         0.003968\n",
       "25%         0.119048\n",
       "50%         0.202381\n",
       "75%         0.285714\n",
       "max       250.000000\n",
       "Name: tau, dtype: float64"
      ]
     },
     "execution_count": 9,
     "metadata": {},
     "output_type": "execute_result"
    }
   ],
   "source": [
    "train['tau'].describe()"
   ]
  },
  {
   "cell_type": "code",
   "execution_count": 10,
   "id": "3ea4cd26",
   "metadata": {
    "ExecuteTime": {
     "end_time": "2022-04-16T21:58:24.936348Z",
     "start_time": "2022-04-16T21:58:24.925959Z"
    }
   },
   "outputs": [
    {
     "data": {
      "text/plain": [
       "879       0.000000\n",
       "1316    425.472331\n",
       "1147    425.472331\n",
       "780     425.472331\n",
       "835     425.472331\n",
       "           ...    \n",
       "871     455.880619\n",
       "1259    455.880619\n",
       "1571    455.880619\n",
       "663     455.880619\n",
       "1218    455.880619\n",
       "Name: S, Length: 1678, dtype: float64"
      ]
     },
     "execution_count": 10,
     "metadata": {},
     "output_type": "execute_result"
    }
   ],
   "source": [
    "train['S'].sort_values()"
   ]
  },
  {
   "cell_type": "code",
   "execution_count": 11,
   "id": "7a3acbf4",
   "metadata": {
    "ExecuteTime": {
     "end_time": "2022-04-16T21:58:25.246714Z",
     "start_time": "2022-04-16T21:58:25.232014Z"
    }
   },
   "outputs": [],
   "source": [
    "# drop rows with unreasonably high tau\n",
    "train.drop(train[(train.tau > 1)].index, inplace = True)\n",
    "# drop rows with 0 asset value\n",
    "train.drop(train[(train.S == 0)].index, inplace = True)"
   ]
  },
  {
   "cell_type": "code",
   "execution_count": 12,
   "id": "2d373bdf",
   "metadata": {
    "ExecuteTime": {
     "end_time": "2022-04-16T21:58:25.610290Z",
     "start_time": "2022-04-16T21:58:25.598211Z"
    }
   },
   "outputs": [
    {
     "data": {
      "text/plain": [
       "(1675, 6)"
      ]
     },
     "execution_count": 12,
     "metadata": {},
     "output_type": "execute_result"
    }
   ],
   "source": [
    "train.shape"
   ]
  },
  {
   "cell_type": "code",
   "execution_count": 13,
   "id": "6a19a949",
   "metadata": {
    "ExecuteTime": {
     "end_time": "2022-04-16T21:58:25.945459Z",
     "start_time": "2022-04-16T21:58:25.933932Z"
    }
   },
   "outputs": [],
   "source": [
    "# BS: 1=over 0=under\n",
    "train[\"BS\"] = np.where(train[\"BS\"] == 'Over', 1, 0)\n",
    "train['difference'] = train['S']-train['K']\n",
    "test['difference'] = test['S']-test['K']"
   ]
  },
  {
   "cell_type": "code",
   "execution_count": 14,
   "id": "b35ed666",
   "metadata": {
    "ExecuteTime": {
     "end_time": "2022-04-16T21:58:26.338968Z",
     "start_time": "2022-04-16T21:58:26.313233Z"
    }
   },
   "outputs": [
    {
     "data": {
      "text/html": [
       "<div>\n",
       "<style scoped>\n",
       "    .dataframe tbody tr th:only-of-type {\n",
       "        vertical-align: middle;\n",
       "    }\n",
       "\n",
       "    .dataframe tbody tr th {\n",
       "        vertical-align: top;\n",
       "    }\n",
       "\n",
       "    .dataframe thead th {\n",
       "        text-align: right;\n",
       "    }\n",
       "</style>\n",
       "<table border=\"1\" class=\"dataframe\">\n",
       "  <thead>\n",
       "    <tr style=\"text-align: right;\">\n",
       "      <th></th>\n",
       "      <th>Value</th>\n",
       "      <th>S</th>\n",
       "      <th>K</th>\n",
       "      <th>tau</th>\n",
       "      <th>r</th>\n",
       "      <th>BS</th>\n",
       "      <th>difference</th>\n",
       "    </tr>\n",
       "  </thead>\n",
       "  <tbody>\n",
       "    <tr>\n",
       "      <th>0</th>\n",
       "      <td>21.670404</td>\n",
       "      <td>431.623898</td>\n",
       "      <td>420.0</td>\n",
       "      <td>0.341270</td>\n",
       "      <td>0.03013</td>\n",
       "      <td>0</td>\n",
       "      <td>11.623898</td>\n",
       "    </tr>\n",
       "    <tr>\n",
       "      <th>1</th>\n",
       "      <td>0.125000</td>\n",
       "      <td>427.015526</td>\n",
       "      <td>465.0</td>\n",
       "      <td>0.166667</td>\n",
       "      <td>0.03126</td>\n",
       "      <td>1</td>\n",
       "      <td>-37.984474</td>\n",
       "    </tr>\n",
       "    <tr>\n",
       "      <th>2</th>\n",
       "      <td>20.691244</td>\n",
       "      <td>427.762336</td>\n",
       "      <td>415.0</td>\n",
       "      <td>0.265873</td>\n",
       "      <td>0.03116</td>\n",
       "      <td>0</td>\n",
       "      <td>12.762336</td>\n",
       "    </tr>\n",
       "    <tr>\n",
       "      <th>3</th>\n",
       "      <td>1.035002</td>\n",
       "      <td>451.711658</td>\n",
       "      <td>460.0</td>\n",
       "      <td>0.063492</td>\n",
       "      <td>0.02972</td>\n",
       "      <td>1</td>\n",
       "      <td>-8.288342</td>\n",
       "    </tr>\n",
       "    <tr>\n",
       "      <th>4</th>\n",
       "      <td>39.553020</td>\n",
       "      <td>446.718974</td>\n",
       "      <td>410.0</td>\n",
       "      <td>0.166667</td>\n",
       "      <td>0.02962</td>\n",
       "      <td>0</td>\n",
       "      <td>36.718974</td>\n",
       "    </tr>\n",
       "    <tr>\n",
       "      <th>...</th>\n",
       "      <td>...</td>\n",
       "      <td>...</td>\n",
       "      <td>...</td>\n",
       "      <td>...</td>\n",
       "      <td>...</td>\n",
       "      <td>...</td>\n",
       "      <td>...</td>\n",
       "    </tr>\n",
       "    <tr>\n",
       "      <th>1670</th>\n",
       "      <td>1.470000</td>\n",
       "      <td>444.397163</td>\n",
       "      <td>475.0</td>\n",
       "      <td>0.273810</td>\n",
       "      <td>0.03034</td>\n",
       "      <td>1</td>\n",
       "      <td>-30.602837</td>\n",
       "    </tr>\n",
       "    <tr>\n",
       "      <th>1671</th>\n",
       "      <td>34.927317</td>\n",
       "      <td>438.453825</td>\n",
       "      <td>410.0</td>\n",
       "      <td>0.301587</td>\n",
       "      <td>0.02972</td>\n",
       "      <td>0</td>\n",
       "      <td>28.453825</td>\n",
       "    </tr>\n",
       "    <tr>\n",
       "      <th>1672</th>\n",
       "      <td>41.127997</td>\n",
       "      <td>428.042219</td>\n",
       "      <td>390.0</td>\n",
       "      <td>0.170635</td>\n",
       "      <td>0.03188</td>\n",
       "      <td>0</td>\n",
       "      <td>38.042219</td>\n",
       "    </tr>\n",
       "    <tr>\n",
       "      <th>1673</th>\n",
       "      <td>0.440003</td>\n",
       "      <td>439.081203</td>\n",
       "      <td>480.0</td>\n",
       "      <td>0.293651</td>\n",
       "      <td>0.02962</td>\n",
       "      <td>1</td>\n",
       "      <td>-40.918797</td>\n",
       "    </tr>\n",
       "    <tr>\n",
       "      <th>1674</th>\n",
       "      <td>0.410002</td>\n",
       "      <td>432.167692</td>\n",
       "      <td>465.0</td>\n",
       "      <td>0.218254</td>\n",
       "      <td>0.02993</td>\n",
       "      <td>1</td>\n",
       "      <td>-32.832308</td>\n",
       "    </tr>\n",
       "  </tbody>\n",
       "</table>\n",
       "<p>1675 rows × 7 columns</p>\n",
       "</div>"
      ],
      "text/plain": [
       "          Value           S      K       tau        r  BS  difference\n",
       "0     21.670404  431.623898  420.0  0.341270  0.03013   0   11.623898\n",
       "1      0.125000  427.015526  465.0  0.166667  0.03126   1  -37.984474\n",
       "2     20.691244  427.762336  415.0  0.265873  0.03116   0   12.762336\n",
       "3      1.035002  451.711658  460.0  0.063492  0.02972   1   -8.288342\n",
       "4     39.553020  446.718974  410.0  0.166667  0.02962   0   36.718974\n",
       "...         ...         ...    ...       ...      ...  ..         ...\n",
       "1670   1.470000  444.397163  475.0  0.273810  0.03034   1  -30.602837\n",
       "1671  34.927317  438.453825  410.0  0.301587  0.02972   0   28.453825\n",
       "1672  41.127997  428.042219  390.0  0.170635  0.03188   0   38.042219\n",
       "1673   0.440003  439.081203  480.0  0.293651  0.02962   1  -40.918797\n",
       "1674   0.410002  432.167692  465.0  0.218254  0.02993   1  -32.832308\n",
       "\n",
       "[1675 rows x 7 columns]"
      ]
     },
     "execution_count": 14,
     "metadata": {},
     "output_type": "execute_result"
    }
   ],
   "source": [
    "train.index = range(1675)\n",
    "train"
   ]
  },
  {
   "cell_type": "code",
   "execution_count": 15,
   "id": "5f2b47eb",
   "metadata": {
    "ExecuteTime": {
     "end_time": "2022-04-16T21:58:26.692216Z",
     "start_time": "2022-04-16T21:58:26.685513Z"
    }
   },
   "outputs": [],
   "source": [
    "X = train.drop(['Value','BS'], axis=1)\n",
    "y1 = train.Value\n",
    "y2 = train.BS"
   ]
  },
  {
   "cell_type": "code",
   "execution_count": 16,
   "id": "3b275942",
   "metadata": {
    "ExecuteTime": {
     "end_time": "2022-04-16T21:58:27.098685Z",
     "start_time": "2022-04-16T21:58:27.076993Z"
    }
   },
   "outputs": [],
   "source": [
    "mms = MinMaxScaler()\n",
    "X_train_norm = mms.fit_transform(X)\n",
    "X_train_norm = pd.DataFrame(X_train_norm)\n",
    "\n",
    "test_norm = mms.transform(test)\n",
    "test_norm = pd.DataFrame(test_norm)"
   ]
  },
  {
   "cell_type": "markdown",
   "id": "f1ca49a0",
   "metadata": {},
   "source": [
    "## Regression"
   ]
  },
  {
   "cell_type": "code",
   "execution_count": 17,
   "id": "2b621243",
   "metadata": {
    "ExecuteTime": {
     "end_time": "2022-04-16T21:58:27.845012Z",
     "start_time": "2022-04-16T21:58:27.840931Z"
    }
   },
   "outputs": [],
   "source": [
    "kfolds_regresssion = KFold(n_splits = 10, random_state = 1, shuffle = True)"
   ]
  },
  {
   "cell_type": "markdown",
   "id": "a1aec150",
   "metadata": {},
   "source": [
    "### Linear Regression"
   ]
  },
  {
   "cell_type": "code",
   "execution_count": 18,
   "id": "8c1a2ed2",
   "metadata": {
    "ExecuteTime": {
     "end_time": "2022-04-16T21:58:29.475532Z",
     "start_time": "2022-04-16T21:58:28.603009Z"
    }
   },
   "outputs": [
    {
     "name": "stdout",
     "output_type": "stream",
     "text": [
      "1 0.9163966987429778\n",
      "2 0.9104968773238045\n",
      "3 0.9108424075892363\n",
      "4 0.902278609683183\n",
      "5 0.9041371893562578\n",
      "6 0.9081116845670857\n",
      "7 0.9218792742069061\n",
      "8 0.9221312010098512\n",
      "9 0.9100407496599476\n",
      "10 0.9077518829046837\n",
      "Mean Score of Linear Regression: 0.9114066575043933\n"
     ]
    },
    {
     "data": {
      "image/png": "[encoded data removed]",
      "text/plain": [
       "<Figure size 432x288 with 1 Axes>"
      ]
     },
     "metadata": {
      "needs_background": "light"
     },
     "output_type": "display_data"
    }
   ],
   "source": [
    "tot = 0\n",
    "niter = 0\n",
    "i = 1\n",
    "for train_index, test_index in kfolds_regresssion.split(X_train_norm):\n",
    "    X_train, X_test = X_train_norm.iloc[train_index], X_train_norm.iloc[test_index]\n",
    "    y_train, y_test = y1.iloc[train_index], y1.iloc[test_index]\n",
    "\n",
    "    model1 = LinearRegression()\n",
    "    model1.fit(X_train, y_train)\n",
    "    \n",
    "    predictions = model1.predict(X_test)\n",
    "    score = model1.score(X_test, y_test)\n",
    "    tot += score\n",
    "    niter += 1\n",
    "    plt.scatter(predictions, y_test, lw=2, alpha=0.3, \n",
    "                label='Fold %d (R2 = %0.3f)' % (i,score))\n",
    "    i = i+1\n",
    "    print(niter, score)\n",
    "print(f'Mean Score of Linear Regression:', tot/niter)\n",
    "plt.plot([min(y_train),max(y_train)], [min(y_train),max(y_train)], \n",
    "         linestyle='--', lw=2, color='black')\n",
    "plt.xlabel('Predicted')\n",
    "plt.ylabel('True')\n",
    "plt.title('K-Fold Validation — Linear Regression')\n",
    "plt.legend()\n",
    "plt.show()"
   ]
  },
  {
   "cell_type": "markdown",
   "id": "a5656660",
   "metadata": {},
   "source": [
    "### Decision Tree"
   ]
  },
  {
   "cell_type": "code",
   "execution_count": 19,
   "id": "2b96d389",
   "metadata": {
    "ExecuteTime": {
     "end_time": "2022-04-16T21:58:30.515290Z",
     "start_time": "2022-04-16T21:58:29.836166Z"
    }
   },
   "outputs": [
    {
     "name": "stdout",
     "output_type": "stream",
     "text": [
      "1 0.9962397218699188\n",
      "2 0.9973731431062196\n",
      "3 0.9969594790839038\n",
      "4 0.9963637408945852\n",
      "5 0.9967409309632027\n",
      "6 0.9972762364611922\n",
      "7 0.9972018424900444\n",
      "8 0.9970314275603932\n",
      "9 0.9968056827127072\n",
      "10 0.9957492041057355\n",
      "Mean Score of Decision Tree Regression Model: 0.9967741409247901\n"
     ]
    },
    {
     "data": {
      "image/png": "[encoded data removed]",
      "text/plain": [
       "<Figure size 432x288 with 1 Axes>"
      ]
     },
     "metadata": {
      "needs_background": "light"
     },
     "output_type": "display_data"
    }
   ],
   "source": [
    "# Decision Tree\n",
    "tot = 0\n",
    "niter = 0\n",
    "i = 1\n",
    "for train_index, test_index in kfolds_regresssion.split(X_train_norm):\n",
    "    X_train, X_test = X_train_norm.iloc[train_index], X_train_norm.iloc[test_index]\n",
    "    y_train, y_test = y1.iloc[train_index], y1.iloc[test_index]\n",
    "    \n",
    "    model2 = DecisionTreeRegressor()\n",
    "    model2.fit(X_train, y_train)\n",
    "    \n",
    "    predictions = model2.predict(X_test)\n",
    "    score = model2.score(X_test, y_test)\n",
    "    tot += score\n",
    "    niter += 1\n",
    "    plt.scatter(predictions, y_test, lw=2, alpha=0.3, \n",
    "                label='Fold %d (R2 = %0.3f)' % (i,score))\n",
    "    i = i+1\n",
    "    print(niter, score)\n",
    "print(f'Mean Score of Decision Tree Regression Model:', tot/niter)\n",
    "plt.plot([min(y_train),max(y_train)], [min(y_train),max(y_train)], \n",
    "         linestyle='--', lw=2, color='black')\n",
    "plt.xlabel('Predicted')\n",
    "plt.ylabel('True')\n",
    "plt.title('K-Fold Validation — Decision Tree')\n",
    "plt.legend()\n",
    "plt.show()"
   ]
  },
  {
   "cell_type": "markdown",
   "id": "b142b1e0",
   "metadata": {},
   "source": [
    "### Random Forest"
   ]
  },
  {
   "cell_type": "code",
   "execution_count": 20,
   "id": "56ae7a5b",
   "metadata": {
    "ExecuteTime": {
     "end_time": "2022-04-16T21:58:36.137019Z",
     "start_time": "2022-04-16T21:58:31.787945Z"
    }
   },
   "outputs": [
    {
     "name": "stdout",
     "output_type": "stream",
     "text": [
      "1 0.9978280900851676\n",
      "2 0.9979083297639175\n",
      "3 0.9978613946461248\n",
      "4 0.9981468327297335\n",
      "5 0.9977590671230436\n",
      "6 0.9983252316955423\n",
      "7 0.9979427376655242\n",
      "8 0.9982235762749192\n",
      "9 0.9978372178205998\n",
      "10 0.9979323026944832\n",
      "Mean Score of Random Forest Regression Model: 0.99798\n"
     ]
    },
    {
     "data": {
      "image/png": "[encoded data removed]",
      "text/plain": [
       "<Figure size 432x288 with 1 Axes>"
      ]
     },
     "metadata": {
      "needs_background": "light"
     },
     "output_type": "display_data"
    }
   ],
   "source": [
    "# Random Forest\n",
    "tot = 0\n",
    "niter = 0\n",
    "i = 1\n",
    "for train_index, test_index in kfolds_regresssion.split(X_train_norm):\n",
    "    X_train, X_test = X_train_norm.iloc[train_index], X_train_norm.iloc[test_index]\n",
    "    y_train, y_test = y1.iloc[train_index], y1.iloc[test_index]\n",
    "    \n",
    "    model3 = RandomForestRegressor(\n",
    "        n_estimators=100, \n",
    "        max_depth=10, \n",
    "        max_features=3)\n",
    "    model3.fit(X_train, y_train)\n",
    "    \n",
    "    predictions = model3.predict(X_test)\n",
    "    score = model3.score(X_test, y_test)\n",
    "    tot += score\n",
    "    niter += 1\n",
    "    plt.scatter(predictions, y_test, lw=2, alpha=0.3, \n",
    "                label='Fold %d (R2 = %0.3f)' % (i,score))\n",
    "    i = i+1\n",
    "    print(niter, score)\n",
    "print(f'Mean Score of Random Forest Regression Model:', round(tot/niter, 5))\n",
    "plt.plot([min(y_train),max(y_train)], [min(y_train),max(y_train)], \n",
    "         linestyle='--', lw=2, color='black')\n",
    "plt.xlabel('Predicted')\n",
    "plt.ylabel('True')\n",
    "plt.title('K-Fold Validation — Random Forest')\n",
    "plt.legend()\n",
    "plt.show()"
   ]
  },
  {
   "cell_type": "code",
   "execution_count": 21,
   "id": "a7a212ad",
   "metadata": {
    "ExecuteTime": {
     "end_time": "2022-04-16T21:58:38.597275Z",
     "start_time": "2022-04-16T21:58:38.403567Z"
    }
   },
   "outputs": [
    {
     "data": {
      "text/plain": [
       "Text(0.5, 0, 'Random Forest Feature Importance')"
      ]
     },
     "execution_count": 21,
     "metadata": {},
     "output_type": "execute_result"
    },
    {
     "data": {
      "image/png": "[encoded data removed]",
      "text/plain": [
       "<Figure size 288x288 with 1 Axes>"
      ]
     },
     "metadata": {
      "needs_background": "light"
     },
     "output_type": "display_data"
    }
   ],
   "source": [
    "fig, axes = plt.subplots(nrows = 1,ncols = 1,figsize = (4,4))\n",
    "sorted_idx = model3.feature_importances_.argsort()\n",
    "plt.barh(X.columns[sorted_idx], model3.feature_importances_[sorted_idx])\n",
    "plt.xlabel(\"Random Forest Feature Importance\")"
   ]
  },
  {
   "cell_type": "markdown",
   "id": "521e4a44",
   "metadata": {},
   "source": [
    "### Light Gradient Boosting Model"
   ]
  },
  {
   "cell_type": "code",
   "execution_count": 22,
   "id": "e72e73ab",
   "metadata": {
    "ExecuteTime": {
     "end_time": "2022-04-16T21:59:16.982467Z",
     "start_time": "2022-04-16T21:59:14.882196Z"
    }
   },
   "outputs": [
    {
     "name": "stdout",
     "output_type": "stream",
     "text": [
      "1 0.9981096771464\n",
      "2 0.9975375992082138\n",
      "3 0.9987079242453245\n",
      "4 0.9991044959591617\n",
      "5 0.9990848585459264\n",
      "6 0.9987310400017855\n",
      "7 0.9973624721880021\n",
      "8 0.9975243012947617\n",
      "9 0.9983135916717084\n",
      "10 0.9987623258954854\n",
      "Mean Score of Light Gradient Boosting Model: 0.99832\n"
     ]
    },
    {
     "data": {
      "image/png": "[encoded data removed]",
      "text/plain": [
       "<Figure size 432x288 with 1 Axes>"
      ]
     },
     "metadata": {
      "needs_background": "light"
     },
     "output_type": "display_data"
    }
   ],
   "source": [
    "tot = 0\n",
    "niter = 0\n",
    "i = 1\n",
    "for train_index, test_index in kfolds_regresssion.split(X_train_norm):\n",
    "    X_train, X_test = X_train_norm.iloc[train_index], X_train_norm.iloc[test_index]\n",
    "    y_train, y_test = y1.iloc[train_index], y1.iloc[test_index]\n",
    "    \n",
    "    model4 = lgb.LGBMRegressor(\n",
    "        num_leaves=31,\n",
    "        max_depth=10,\n",
    "        learning_rate=0.1,\n",
    "        n_estimators=200,\n",
    "    )\n",
    "    model4.fit(X_train, y_train)\n",
    "    \n",
    "    predictions = model4.predict(X_test)\n",
    "    score = model4.score(X_test, y_test)\n",
    "    tot += score\n",
    "    niter += 1\n",
    "    plt.scatter(predictions, y_test, lw=2, alpha=0.3, \n",
    "                label='Fold %d (R2 = %0.3f)' % (i,score))\n",
    "    i = i+1\n",
    "    print(niter, score)\n",
    "print(f'Mean Score of Light Gradient Boosting Model:', round(tot/niter, 5))\n",
    "plt.plot([min(y_train),max(y_train)], [min(y_train),max(y_train)], \n",
    "         linestyle='--', lw=2, color='black')\n",
    "plt.xlabel('Predicted')\n",
    "plt.ylabel('True')\n",
    "plt.title('K-Fold Validation — Light Gradient Boosting')\n",
    "plt.legend()\n",
    "plt.show()"
   ]
  },
  {
   "cell_type": "code",
   "execution_count": 23,
   "id": "cc7cfee6",
   "metadata": {
    "ExecuteTime": {
     "end_time": "2022-04-16T21:59:22.614753Z",
     "start_time": "2022-04-16T21:59:22.584172Z"
    }
   },
   "outputs": [],
   "source": [
    "value_pred = model4.predict(test_norm)"
   ]
  },
  {
   "cell_type": "code",
   "execution_count": 24,
   "id": "de4b0147",
   "metadata": {
    "ExecuteTime": {
     "end_time": "2022-04-16T21:59:23.225867Z",
     "start_time": "2022-04-16T21:59:23.179385Z"
    }
   },
   "outputs": [
    {
     "data": {
      "text/plain": [
       "array([ 1.21149765, 18.26470147, 10.62467395, 23.96290985, 16.16379973])"
      ]
     },
     "execution_count": 24,
     "metadata": {},
     "output_type": "execute_result"
    }
   ],
   "source": [
    "model4.predict(test_norm)[:5]"
   ]
  },
  {
   "cell_type": "markdown",
   "id": "0fae1d26",
   "metadata": {},
   "source": [
    "## Classification"
   ]
  },
  {
   "cell_type": "markdown",
   "id": "3927973e",
   "metadata": {},
   "source": [
    "### Logistic Regression"
   ]
  },
  {
   "cell_type": "code",
   "execution_count": 25,
   "id": "24a2c8cf",
   "metadata": {
    "ExecuteTime": {
     "end_time": "2022-04-05T04:54:16.839932Z",
     "start_time": "2022-04-05T04:54:16.257717Z"
    }
   },
   "outputs": [
    {
     "name": "stdout",
     "output_type": "stream",
     "text": [
      "Warning: Maximum number of iterations has been exceeded.\n",
      "         Current function value: 0.210854\n",
      "         Iterations: 35\n",
      "Warning: Maximum number of iterations has been exceeded.\n",
      "         Current function value: 0.207108\n",
      "         Iterations: 35\n",
      "Warning: Maximum number of iterations has been exceeded.\n",
      "         Current function value: 0.196174\n",
      "         Iterations: 35\n",
      "Optimization terminated successfully.\n",
      "         Current function value: 0.212754\n",
      "         Iterations 24\n",
      "Warning: Maximum number of iterations has been exceeded.\n",
      "         Current function value: 0.206546\n",
      "         Iterations: 35\n",
      "Warning: Maximum number of iterations has been exceeded.\n",
      "         Current function value: 0.209525\n",
      "         Iterations: 35\n",
      "Warning: Maximum number of iterations has been exceeded.\n",
      "         Current function value: 0.215707\n",
      "         Iterations: 35\n",
      "Warning: Maximum number of iterations has been exceeded.\n",
      "         Current function value: 0.208084\n",
      "         Iterations: 35\n",
      "Warning: Maximum number of iterations has been exceeded.\n",
      "         Current function value: 0.202249\n",
      "         Iterations: 35\n"
     ]
    },
    {
     "name": "stderr",
     "output_type": "stream",
     "text": [
      "C:\\Users\\yaoli\\anaconda3\\lib\\site-packages\\statsmodels\\base\\model.py:604: ConvergenceWarning: Maximum Likelihood optimization failed to converge. Check mle_retvals\n",
      "  warnings.warn(\"Maximum Likelihood optimization failed to \"\n",
      "C:\\Users\\yaoli\\anaconda3\\lib\\site-packages\\statsmodels\\base\\model.py:604: ConvergenceWarning: Maximum Likelihood optimization failed to converge. Check mle_retvals\n",
      "  warnings.warn(\"Maximum Likelihood optimization failed to \"\n",
      "C:\\Users\\yaoli\\anaconda3\\lib\\site-packages\\statsmodels\\base\\model.py:604: ConvergenceWarning: Maximum Likelihood optimization failed to converge. Check mle_retvals\n",
      "  warnings.warn(\"Maximum Likelihood optimization failed to \"\n",
      "C:\\Users\\yaoli\\anaconda3\\lib\\site-packages\\statsmodels\\base\\model.py:604: ConvergenceWarning: Maximum Likelihood optimization failed to converge. Check mle_retvals\n",
      "  warnings.warn(\"Maximum Likelihood optimization failed to \"\n",
      "C:\\Users\\yaoli\\anaconda3\\lib\\site-packages\\statsmodels\\base\\model.py:604: ConvergenceWarning: Maximum Likelihood optimization failed to converge. Check mle_retvals\n",
      "  warnings.warn(\"Maximum Likelihood optimization failed to \"\n",
      "C:\\Users\\yaoli\\anaconda3\\lib\\site-packages\\statsmodels\\base\\model.py:604: ConvergenceWarning: Maximum Likelihood optimization failed to converge. Check mle_retvals\n",
      "  warnings.warn(\"Maximum Likelihood optimization failed to \"\n",
      "C:\\Users\\yaoli\\anaconda3\\lib\\site-packages\\statsmodels\\base\\model.py:604: ConvergenceWarning: Maximum Likelihood optimization failed to converge. Check mle_retvals\n",
      "  warnings.warn(\"Maximum Likelihood optimization failed to \"\n",
      "C:\\Users\\yaoli\\anaconda3\\lib\\site-packages\\statsmodels\\base\\model.py:604: ConvergenceWarning: Maximum Likelihood optimization failed to converge. Check mle_retvals\n",
      "  warnings.warn(\"Maximum Likelihood optimization failed to \"\n"
     ]
    },
    {
     "name": "stdout",
     "output_type": "stream",
     "text": [
      "Warning: Maximum number of iterations has been exceeded.\n",
      "         Current function value: 0.207148\n",
      "         Iterations: 35\n",
      "classification errors using 10-fold CV: [0.09523809523809523, 0.06547619047619048, 0.1130952380952381, 0.06547619047619048, 0.08333333333333333, 0.09580838323353294, 0.04790419161676647, 0.08982035928143713, 0.10179640718562874, 0.09580838323353294]\n",
      "\n",
      "mean of classification errors using 10-fold CV: 0.08537567721699459\n",
      "\n"
     ]
    },
    {
     "name": "stderr",
     "output_type": "stream",
     "text": [
      "C:\\Users\\yaoli\\anaconda3\\lib\\site-packages\\statsmodels\\base\\model.py:604: ConvergenceWarning: Maximum Likelihood optimization failed to converge. Check mle_retvals\n",
      "  warnings.warn(\"Maximum Likelihood optimization failed to \"\n"
     ]
    }
   ],
   "source": [
    "kfolds = StratifiedKFold(n_splits = 10, random_state = 1, shuffle = True)\n",
    "\n",
    "cv_classification_errors_1 = []\n",
    "cv_auc_1 = []\n",
    "\n",
    "for train_index, test_index in kfolds.split(train,train['BS']):\n",
    "    # train the logistic model\n",
    "    result = smf.logit('BS ~ S + K + tau + r + difference', \n",
    "                       data=train, subset = train_index).fit()\n",
    "    # select the test set according to test_index produced by kfolds.split\n",
    "    X_test = train.loc[test_index,[\"S\",\"K\",'tau','r','difference']]\n",
    "    y_test = train.loc[test_index,\"BS\"]\n",
    "    # compute the probabilities of test data\n",
    "    result_prob = result.predict(X_test)\n",
    "    # select 0.5 as the threshold\n",
    "    result_pred = (result_prob > 0.5)\n",
    "    # compute the classification error\n",
    "    classification_error = np.mean(result_pred != y_test)\n",
    "    # add the computed classification error to \"cv_classification_errors_1\" to\n",
    "    # store the result\n",
    "    cv_classification_errors_1.append(classification_error)\n",
    "    \n",
    "    # calculate the auc\n",
    "    fpr,tpr,threshold = roc_curve(y_test, result_prob)\n",
    "    roc_auc = auc(fpr,tpr)\n",
    "    # add the computed auc to \"cv_auc_1\" to store the result\n",
    "    cv_auc_1.append(roc_auc)\n",
    "    \n",
    "    \n",
    "print(\"classification errors using 10-fold CV: {}\\n\".\n",
    "      format(cv_classification_errors_1))\n",
    "print(\"mean of classification errors using 10-fold CV: {}\\n\".\n",
    "      format(np.mean(cv_classification_errors_1)))"
   ]
  },
  {
   "cell_type": "markdown",
   "id": "2bfe5b32",
   "metadata": {},
   "source": [
    "### Decision Tree"
   ]
  },
  {
   "cell_type": "code",
   "execution_count": 26,
   "id": "6ae296e3",
   "metadata": {
    "ExecuteTime": {
     "end_time": "2022-04-05T04:54:19.686051Z",
     "start_time": "2022-04-05T04:54:19.546460Z"
    }
   },
   "outputs": [
    {
     "name": "stdout",
     "output_type": "stream",
     "text": [
      "classification errors using 10-fold CV: [0.07738095238095238, 0.07142857142857142, 0.08928571428571429, 0.08333333333333333, 0.11904761904761904, 0.07784431137724551, 0.059880239520958084, 0.08383233532934131, 0.11377245508982035, 0.10179640718562874]\n",
      "\n",
      "mean of classification errors using 10-fold CV: 0.08776019389791845\n",
      "\n"
     ]
    }
   ],
   "source": [
    "cv_classification_errors_1 = []\n",
    "cv_auc_1 = []\n",
    "\n",
    "for train_index, test_index in kfolds.split(train,train['BS']):\n",
    "    # train the decision tree model\n",
    "    result = DecisionTreeClassifier().fit(train.loc[train_index,[\"S\",\"K\",'tau','r','difference']], train.loc[train_index,\"BS\"])\n",
    "    # select the test set according to test_index produced by kfolds.split\n",
    "    X_test = train.loc[test_index,[\"S\",\"K\",'tau','r','difference']]\n",
    "    y_test = train.loc[test_index,\"BS\"]\n",
    "    # compute the probabilities of test data\n",
    "    result_prob = result.predict(X_test)\n",
    "    # select 0.5 as the threshold\n",
    "    result_pred = (result_prob > 0.5)\n",
    "    # compute the classification error\n",
    "    classification_error = np.mean(result_pred != y_test)\n",
    "    # add the computed classification error to \"cv_classification_errors_1\" to\n",
    "    # store the result\n",
    "    cv_classification_errors_1.append(classification_error)\n",
    "    \n",
    "    # calculate the auc\n",
    "    fpr,tpr,threshold = roc_curve(y_test, result_prob)\n",
    "    roc_auc = auc(fpr,tpr)\n",
    "    # add the computed auc to \"cv_auc_1\" to store the result\n",
    "    cv_auc_1.append(roc_auc)\n",
    "    \n",
    "    \n",
    "print(\"classification errors using 10-fold CV: {}\\n\".\n",
    "      format(cv_classification_errors_1))\n",
    "print(\"mean of classification errors using 10-fold CV: {}\\n\".\n",
    "      format(np.mean(cv_classification_errors_1)))"
   ]
  },
  {
   "cell_type": "markdown",
   "id": "aa5ee9b4",
   "metadata": {},
   "source": [
    "### KNN"
   ]
  },
  {
   "cell_type": "code",
   "execution_count": 27,
   "id": "e128cc98",
   "metadata": {},
   "outputs": [
    {
     "name": "stdout",
     "output_type": "stream",
     "text": [
      "classification errors using 10-fold CV: [0.10119047619047619, 0.08928571428571429, 0.10714285714285714, 0.07738095238095238, 0.09523809523809523, 0.0718562874251497, 0.0718562874251497, 0.0658682634730539, 0.09580838323353294, 0.10179640718562874]\n",
      "\n",
      "mean of classification errors using 10-fold CV: 0.08774237239806101\n",
      "\n"
     ]
    }
   ],
   "source": [
    "from sklearn.neighbors import KNeighborsClassifier\n",
    "cv_classification_errors_1 = []\n",
    "cv_auc_1 = []\n",
    "\n",
    "for train_index, test_index in kfolds.split(train,train['BS']):\n",
    "    # train the knn model\n",
    "    result = KNeighborsClassifier(n_neighbors = 10).fit(train.loc[train_index,[\"S\",\"K\",'tau','r','difference']], train.loc[train_index,\"BS\"])\n",
    "    # select the test set according to test_index produced by kfolds.split\n",
    "    X_test = train.loc[test_index,[\"S\",\"K\",'tau','r','difference']]\n",
    "    y_test = train.loc[test_index,\"BS\"]\n",
    "    # compute the probabilities of test data\n",
    "    result_prob = result.predict(X_test)\n",
    "    # select 0.5 as the threshold\n",
    "    result_pred = (result_prob > 0.5)\n",
    "    # compute the classification error\n",
    "    classification_error = np.mean(result_pred != y_test)\n",
    "    # add the computed classification error to \"cv_classification_errors_1\" to\n",
    "    # store the result\n",
    "    cv_classification_errors_1.append(classification_error)\n",
    "    \n",
    "    # calculate the auc\n",
    "    fpr,tpr,threshold = roc_curve(y_test, result_prob)\n",
    "    roc_auc = auc(fpr,tpr)\n",
    "    # add the computed auc to \"cv_auc_1\" to store the result\n",
    "    cv_auc_1.append(roc_auc)\n",
    "    \n",
    "    \n",
    "print(\"classification errors using 10-fold CV: {}\\n\".\n",
    "      format(cv_classification_errors_1))\n",
    "print(\"mean of classification errors using 10-fold CV: {}\\n\".\n",
    "       format(np.mean(cv_classification_errors_1)))"
   ]
  },
  {
   "cell_type": "markdown",
   "id": "3721f849",
   "metadata": {},
   "source": [
    "### Random Forest"
   ]
  },
  {
   "cell_type": "code",
   "execution_count": 28,
   "id": "611f8cc1",
   "metadata": {
    "ExecuteTime": {
     "end_time": "2022-04-05T04:55:16.445666Z",
     "start_time": "2022-04-05T04:55:13.339057Z"
    }
   },
   "outputs": [
    {
     "name": "stdout",
     "output_type": "stream",
     "text": [
      "classification errors using 10-fold CV: [0.07142857142857142, 0.05952380952380952, 0.03571428571428571, 0.05952380952380952, 0.07142857142857142, 0.0658682634730539, 0.03592814371257485, 0.08383233532934131, 0.10179640718562874, 0.0718562874251497]\n",
      "\n",
      "mean of classification errors using 10-fold CV: 0.06569004847447961\n",
      "\n"
     ]
    }
   ],
   "source": [
    "cv_classification_errors_1 = []\n",
    "cv_auc_1 = []\n",
    "\n",
    "for train_index, test_index in kfolds.split(train,train['BS']):\n",
    "    # train the random forest model\n",
    "    result = RandomForestClassifier().fit(train.loc[train_index,[\"S\",\"K\",'tau','r','difference']], train.loc[train_index,\"BS\"])\n",
    "    # select the test set according to test_index produced by kfolds.split\n",
    "    X_test = train.loc[test_index,[\"S\",\"K\",'tau','r','difference']]\n",
    "    y_test = train.loc[test_index,\"BS\"]\n",
    "    # compute the probabilities of test data\n",
    "    result_prob = result.predict(X_test)\n",
    "    # select 0.5 as the threshold\n",
    "    result_pred = (result_prob > 0.5)\n",
    "    # compute the classification error\n",
    "    classification_error = np.mean(result_pred != y_test)\n",
    "    # add the computed classification error to \"cv_classification_errors_1\" to\n",
    "    # store the result\n",
    "    cv_classification_errors_1.append(classification_error)\n",
    "    \n",
    "    # calculate the auc\n",
    "    fpr,tpr,threshold = roc_curve(y_test, result_prob)\n",
    "    roc_auc = auc(fpr,tpr)\n",
    "    # add the computed auc to \"cv_auc_1\" to store the result\n",
    "    cv_auc_1.append(roc_auc)\n",
    "    \n",
    "    \n",
    "print(\"classification errors using 10-fold CV: {}\\n\".\n",
    "      format(cv_classification_errors_1))\n",
    "print(\"mean of classification errors using 10-fold CV: {}\\n\".\n",
    "      format(np.mean(cv_classification_errors_1)))"
   ]
  },
  {
   "cell_type": "markdown",
   "id": "8d49d5c3",
   "metadata": {},
   "source": [
    "### SVM"
   ]
  },
  {
   "cell_type": "code",
   "execution_count": 29,
   "id": "356ca6c1",
   "metadata": {},
   "outputs": [
    {
     "name": "stdout",
     "output_type": "stream",
     "text": [
      "classification errors using 10-fold CV: [0.08333333333333333, 0.07738095238095238, 0.1130952380952381, 0.07738095238095238, 0.09523809523809523, 0.10179640718562874, 0.05389221556886228, 0.08982035928143713, 0.10179640718562874, 0.10778443113772455]\n",
      "\n",
      "mean of classification errors using 10-fold CV: 0.09015183917878529\n",
      "\n"
     ]
    }
   ],
   "source": [
    "from sklearn import svm\n",
    "cv_classification_errors_1 = []\n",
    "cv_auc_1 = []\n",
    "\n",
    "for train_index, test_index in kfolds.split(train,train['BS']):\n",
    "    # train the knn model\n",
    "    result = svm.SVC().fit(train.loc[train_index,[\"S\",\"K\",'tau','r','difference']], train.loc[train_index,\"BS\"])\n",
    "    # select the test set according to test_index produced by kfolds.split\n",
    "    X_test = train.loc[test_index,[\"S\",\"K\",'tau','r','difference']]\n",
    "    y_test = train.loc[test_index,\"BS\"]\n",
    "    # compute the probabilities of test data\n",
    "    result_prob = result.predict(X_test)\n",
    "    # select 0.5 as the threshold\n",
    "    result_pred = (result_prob > 0.5)\n",
    "    # compute the classification error\n",
    "    classification_error = np.mean(result_pred != y_test)\n",
    "    # add the computed classification error to \"cv_classification_errors_1\" to\n",
    "    # store the result\n",
    "    cv_classification_errors_1.append(classification_error)\n",
    "    \n",
    "    # calculate the auc\n",
    "    fpr,tpr,threshold = roc_curve(y_test, result_prob)\n",
    "    roc_auc = auc(fpr,tpr)\n",
    "    # add the computed auc to \"cv_auc_1\" to store the result\n",
    "    cv_auc_1.append(roc_auc)\n",
    "\n",
    "print(\"classification errors using 10-fold CV: {}\\n\".\n",
    "      format(cv_classification_errors_1))\n",
    "print(\"mean of classification errors using 10-fold CV: {}\\n\".\n",
    "       format(np.mean(cv_classification_errors_1)))"
   ]
  },
  {
   "cell_type": "markdown",
   "id": "6d14629f",
   "metadata": {},
   "source": [
    "### Light Gradient Boosted Tree"
   ]
  },
  {
   "cell_type": "code",
   "execution_count": 30,
   "id": "7efc2950",
   "metadata": {},
   "outputs": [
    {
     "name": "stdout",
     "output_type": "stream",
     "text": [
      "classification errors using 10-fold CV: [0.08928571428571429, 0.06547619047619048, 0.041666666666666664, 0.05357142857142857, 0.05952380952380952, 0.05389221556886228, 0.04790419161676647, 0.07784431137724551, 0.09580838323353294, 0.0718562874251497]\n",
      "\n",
      "mean of classification errors using 10-fold CV: 0.06568291987453664\n",
      "\n"
     ]
    }
   ],
   "source": [
    "from sklearn import svm\n",
    "cv_classification_errors_1 = []\n",
    "cv_auc_1 = []\n",
    "\n",
    "for train_index, test_index in kfolds.split(train,train['BS']):\n",
    "    # train the knn model\n",
    "    result = lgb.LGBMRegressor().fit(train.loc[train_index,[\"S\",\"K\",'tau','r','difference']], train.loc[train_index,\"BS\"])\n",
    "    # select the test set according to test_index produced by kfolds.split\n",
    "    X_test = train.loc[test_index,[\"S\",\"K\",'tau','r','difference']]\n",
    "    y_test = train.loc[test_index,\"BS\"]\n",
    "    # compute the probabilities of test data\n",
    "    result_prob = result.predict(X_test)\n",
    "    # select 0.5 as the threshold\n",
    "    result_pred = (result_prob > 0.5)\n",
    "    # compute the classification error\n",
    "    classification_error = np.mean(result_pred != y_test)\n",
    "    # add the computed classification error to \"cv_classification_errors_1\" to\n",
    "    # store the result\n",
    "    cv_classification_errors_1.append(classification_error)\n",
    "    \n",
    "    # calculate the auc\n",
    "    fpr,tpr,threshold = roc_curve(y_test, result_prob)\n",
    "    roc_auc = auc(fpr,tpr)\n",
    "    # add the computed auc to \"cv_auc_1\" to store the result\n",
    "    cv_auc_1.append(roc_auc)\n",
    "\n",
    "print(\"classification errors using 10-fold CV: {}\\n\".\n",
    "      format(cv_classification_errors_1))\n",
    "print(\"mean of classification errors using 10-fold CV: {}\\n\".\n",
    "       format(np.mean(cv_classification_errors_1)))"
   ]
  },
  {
   "cell_type": "code",
   "execution_count": 31,
   "id": "494dd457",
   "metadata": {
    "ExecuteTime": {
     "end_time": "2022-04-05T04:55:23.373770Z",
     "start_time": "2022-04-05T04:55:23.020973Z"
    }
   },
   "outputs": [],
   "source": [
    "final_result = lgb.LGBMRegressor().fit(train[[\"S\",\"K\",'tau','r','difference']], train[\"BS\"].ravel())\n",
    "BS_pred = final_result.predict(test)"
   ]
  },
  {
   "cell_type": "code",
   "execution_count": 32,
   "id": "1ab31116",
   "metadata": {
    "ExecuteTime": {
     "end_time": "2022-04-05T04:55:24.363263Z",
     "start_time": "2022-04-05T04:55:24.352535Z"
    }
   },
   "outputs": [
    {
     "data": {
      "text/plain": [
       "array([ 0.9731984 , -0.00882819,  0.04254516, ...,  0.99703311,\n",
       "       -0.06728244,  0.08700918])"
      ]
     },
     "execution_count": 32,
     "metadata": {},
     "output_type": "execute_result"
    }
   ],
   "source": [
    "BS_pred"
   ]
  },
  {
   "cell_type": "code",
   "execution_count": 33,
   "id": "7fb88bcc",
   "metadata": {
    "ExecuteTime": {
     "end_time": "2022-04-05T04:58:19.840783Z",
     "start_time": "2022-04-05T04:58:19.614433Z"
    }
   },
   "outputs": [],
   "source": [
    "pd.DataFrame([value_pred, BS_pred]).transpose().rename(columns={0:'value_pred', 1:'BS_pred'}).to_csv('pred.csv')"
   ]
  },
  {
   "cell_type": "code",
   "execution_count": null,
   "id": "dded8f3b",
   "metadata": {},
   "outputs": [],
   "source": []
  }
 ],
 "metadata": {
  "kernelspec": {
   "display_name": "Python 3",
   "language": "python",
   "name": "python3"
  },
  "language_info": {
   "codemirror_mode": {
    "name": "ipython",
    "version": 3
   },
   "file_extension": ".py",
   "mimetype": "text/x-python",
   "name": "python",
   "nbconvert_exporter": "python",
   "pygments_lexer": "ipython3",
   "version": "3.8.12"
  },
  "toc": {
   "base_numbering": 1,
   "nav_menu": {},
   "number_sections": false,
   "sideBar": true,
   "skip_h1_title": false,
   "title_cell": "Table of Contents",
   "title_sidebar": "Contents",
   "toc_cell": false,
   "toc_position": {},
   "toc_section_display": true,
   "toc_window_display": false
  }
 },
 "nbformat": 4,
 "nbformat_minor": 5
}
